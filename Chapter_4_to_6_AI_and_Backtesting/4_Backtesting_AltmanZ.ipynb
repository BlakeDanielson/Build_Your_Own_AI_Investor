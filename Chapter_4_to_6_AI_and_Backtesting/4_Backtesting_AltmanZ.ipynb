{
 "cells": [
  {
   "cell_type": "markdown",
   "metadata": {},
   "source": [
    "# Backtesting the AI Investor\n",
    "Chapter 5 of the book: \"Build Your Own AI Investor\""
   ]
  },
  {
   "cell_type": "code",
   "execution_count": 2,
   "metadata": {},
   "outputs": [],
   "source": [
    "# Code from Book: Build Your Own AI Investor\n",
    "# Damon Lee 2020\n",
    "# Check out the performance on www.valueinvestingai.com\n",
    "# Code uses data from the (presumably) nice people at https://simfin.com/. \n",
    "# Feel free to fork this code for others to see what can be done with it.\n",
    "\n",
    "import pandas as pd\n",
    "import numpy as np\n",
    "import math\n",
    "import pickle # get the ML model from other notebook\n",
    "from matplotlib import pyplot as plt # scatter plot\n",
    "import matplotlib.lines as mlines # plot"
   ]
  },
  {
   "cell_type": "code",
   "execution_count": 3,
   "metadata": {},
   "outputs": [
    {
     "name": "stdout",
     "output_type": "stream",
     "text": [
      "3.7.7\n"
     ]
    }
   ],
   "source": [
    "from platform import python_version\n",
    "print(python_version())"
   ]
  },
  {
   "cell_type": "markdown",
   "metadata": {},
   "source": [
    "# Optional: Train a linear model for backtest\n",
    "Otherwise train a model in previous notebook, where data will be loaded into this notebook"
   ]
  },
  {
   "cell_type": "code",
   "execution_count": 3,
   "metadata": {},
   "outputs": [
    {
     "name": "stdout",
     "output_type": "stream",
     "text": [
      "train mse:  0.4764359938728771\n",
      "test mse:  0.3112292711726134\n"
     ]
    }
   ],
   "source": [
    "x=pd.read_csv(\"Annual_Stock_Price_Fundamentals_Ratios.csv\", index_col=0)\n",
    "yperf=pd.read_csv(\"Annual_Stock_Price_Performance_Percentage.csv\", index_col=0)\n",
    "yperf=yperf[\"Perf\"]\n",
    "\n",
    "from sklearn.model_selection import train_test_split\n",
    "X_train, X_test, y_train, y_test = train_test_split(x, yperf, test_size=0.5, random_state=42)\n",
    "\n",
    "# Save CSVs in case want to see the data.\n",
    "X_train.to_csv(\"Annual_Stock_Price_Fundamentals_Ratios_train.csv\")\n",
    "X_test.to_csv(\"Annual_Stock_Price_Fundamentals_Ratios_test.csv\")\n",
    "y_train.to_csv(\"Annual_Stock_Price_Performance_Percentage_train.csv\")\n",
    "y_test.to_csv(\"Annual_Stock_Price_Performance_Percentage_test.csv\")\n",
    "\n",
    "# Linear\n",
    "from sklearn.linear_model import LinearRegression\n",
    "from sklearn.preprocessing import PowerTransformer\n",
    "from sklearn.pipeline import Pipeline\n",
    "\n",
    "pl_linear = Pipeline([('Power Transformer', PowerTransformer()),\n",
    "    ('linear', LinearRegression())])\n",
    "pl_linear.fit(X_train, y_train)\n",
    "y_pred = pl_linear.predict(X_test)\n",
    "from sklearn.metrics import mean_squared_error\n",
    "print('train mse: ', mean_squared_error(y_train, pl_linear.predict(X_train)))\n",
    "print('test mse: ', mean_squared_error(y_test, y_pred))\n",
    "import pickle # To save the fitted model\n",
    "pickle.dump(pl_linear, open(\"pl_linear.p\", \"wb\" ))"
   ]
  },
  {
   "cell_type": "code",
   "execution_count": 5,
   "metadata": {},
   "outputs": [
    {
     "data": {
      "text/plain": [
       "pandas.core.series.Series"
      ]
     },
     "execution_count": 5,
     "metadata": {},
     "output_type": "execute_result"
    }
   ],
   "source": [
    "type(yperf)"
   ]
  },
  {
   "cell_type": "markdown",
   "metadata": {},
   "source": [
    "Or can use Random Forest"
   ]
  },
  {
   "cell_type": "code",
   "execution_count": 95,
   "metadata": {},
   "outputs": [
    {
     "name": "stdout",
     "output_type": "stream",
     "text": [
      "train mse:  0.1964461681467214\n",
      "test mse:  0.32533416873402465\n"
     ]
    }
   ],
   "source": [
    "x=pd.read_csv(\"Annual_Stock_Price_Fundamentals_Ratios.csv\", index_col=0)\n",
    "yperf=pd.read_csv(\"Annual_Stock_Price_Performance_Percentage.csv\", index_col=0)\n",
    "yperf=yperf[\"Perf\"]\n",
    "\n",
    "from sklearn.model_selection import train_test_split\n",
    "X_train, X_test, y_train, y_test = train_test_split(x, yperf, test_size=0.5, random_state=42)\n",
    "\n",
    "# Save CSVs in case want to see the data.\n",
    "X_train.to_csv(\"Annual_Stock_Price_Fundamentals_Ratios_train.csv\")\n",
    "X_test.to_csv(\"Annual_Stock_Price_Fundamentals_Ratios_test.csv\")\n",
    "y_train.to_csv(\"Annual_Stock_Price_Performance_Percentage_train.csv\")\n",
    "y_test.to_csv(\"Annual_Stock_Price_Performance_Percentage_test.csv\")\n",
    "\n",
    "# Linear\n",
    "from sklearn.ensemble import RandomForestRegressor\n",
    "\n",
    "rfregressor = RandomForestRegressor(random_state=42, max_depth=10).fit(X_train, y_train)\n",
    "\n",
    "y_pred = rfregressor.predict(X_test)\n",
    "from sklearn.metrics import mean_squared_error\n",
    "print('train mse: ', mean_squared_error(y_train, rfregressor.predict(X_train)))\n",
    "print('test mse: ', mean_squared_error(y_test, y_pred))\n",
    "import pickle # To save the fitted model\n",
    "pickle.dump(rfregressor, open(\"rfregressor.p\", \"wb\" ))"
   ]
  },
  {
   "cell_type": "markdown",
   "metadata": {},
   "source": [
    "# Read in Train/Test"
   ]
  },
  {
   "cell_type": "code",
   "execution_count": 69,
   "metadata": {},
   "outputs": [],
   "source": [
    "# X AND Y (no splitting for train/test)\n",
    "# Financial ratios \n",
    "x=pd.read_csv(\"Annual_Stock_Price_Fundamentals_Ratios.csv\", index_col=0)\n",
    "# annual stock performances\n",
    "y=pd.read_csv(\"Annual_Stock_Price_Performance_Filtered.csv\", index_col=0)\n",
    "# convert to date\n",
    "y[\"Date\"], y[\"Date2\"]=pd.to_datetime(y[\"Date\"]), pd.to_datetime(y[\"Date2\"])\n",
    "\n",
    "# X AND Y (splitting for train/test)\n",
    "X_train=pd.read_csv(\"Annual_Stock_Price_Fundamentals_Ratios_train.csv\", index_col=0)\n",
    "X_test=pd.read_csv(\"Annual_Stock_Price_Fundamentals_Ratios_test.csv\", index_col=0)\n",
    "y_train=pd.read_csv(\"Annual_Stock_Price_Performance_Percentage_train.csv\", index_col=0)\n",
    "y_test=pd.read_csv(\"Annual_Stock_Price_Performance_Percentage_test.csv\", index_col=0)\n",
    "\n",
    "y_=pd.DataFrame()\n",
    "y_=y.loc[y_test.index.values, :]\n",
    "\n",
    "# convert string to datetime\n",
    "y_[\"Date\"], y_[\"Date2\"]=pd.to_datetime(y_[\"Date\"]), pd.to_datetime(y_[\"Date2\"])"
   ]
  },
  {
   "cell_type": "code",
   "execution_count": 70,
   "metadata": {},
   "outputs": [
    {
     "data": {
      "text/html": [
       "<div>\n",
       "<style scoped>\n",
       "    .dataframe tbody tr th:only-of-type {\n",
       "        vertical-align: middle;\n",
       "    }\n",
       "\n",
       "    .dataframe tbody tr th {\n",
       "        vertical-align: top;\n",
       "    }\n",
       "\n",
       "    .dataframe thead th {\n",
       "        text-align: right;\n",
       "    }\n",
       "</style>\n",
       "<table border=\"1\" class=\"dataframe\">\n",
       "  <thead>\n",
       "    <tr style=\"text-align: right;\">\n",
       "      <th></th>\n",
       "      <th>Ticker</th>\n",
       "      <th>Open Price</th>\n",
       "      <th>Date</th>\n",
       "      <th>Volume</th>\n",
       "      <th>Ticker2</th>\n",
       "      <th>Open Price2</th>\n",
       "      <th>Date2</th>\n",
       "      <th>Volume2</th>\n",
       "    </tr>\n",
       "  </thead>\n",
       "  <tbody>\n",
       "    <tr>\n",
       "      <th>11308</th>\n",
       "      <td>VLGEA</td>\n",
       "      <td>23.430</td>\n",
       "      <td>2011-09-06</td>\n",
       "      <td>3.397350e+05</td>\n",
       "      <td>VLGEA</td>\n",
       "      <td>33.37</td>\n",
       "      <td>2012-09-04</td>\n",
       "      <td>7.775210e+05</td>\n",
       "    </tr>\n",
       "    <tr>\n",
       "      <th>7636</th>\n",
       "      <td>NEM</td>\n",
       "      <td>24.025</td>\n",
       "      <td>2014-02-21</td>\n",
       "      <td>5.527504e+08</td>\n",
       "      <td>NEM</td>\n",
       "      <td>25.52</td>\n",
       "      <td>2015-02-23</td>\n",
       "      <td>1.941982e+08</td>\n",
       "    </tr>\n",
       "    <tr>\n",
       "      <th>2412</th>\n",
       "      <td>CLFD</td>\n",
       "      <td>13.700</td>\n",
       "      <td>2015-11-25</td>\n",
       "      <td>4.617037e+05</td>\n",
       "      <td>CLFD</td>\n",
       "      <td>19.55</td>\n",
       "      <td>2016-11-25</td>\n",
       "      <td>4.506470e+05</td>\n",
       "    </tr>\n",
       "    <tr>\n",
       "      <th>3578</th>\n",
       "      <td>DY</td>\n",
       "      <td>81.190</td>\n",
       "      <td>2017-09-01</td>\n",
       "      <td>5.905135e+07</td>\n",
       "      <td>DY</td>\n",
       "      <td>83.49</td>\n",
       "      <td>2018-09-04</td>\n",
       "      <td>5.703436e+07</td>\n",
       "    </tr>\n",
       "    <tr>\n",
       "      <th>6650</th>\n",
       "      <td>LSI</td>\n",
       "      <td>94.060</td>\n",
       "      <td>2015-02-24</td>\n",
       "      <td>1.041348e+07</td>\n",
       "      <td>LSI</td>\n",
       "      <td>106.06</td>\n",
       "      <td>2016-02-24</td>\n",
       "      <td>2.836946e+07</td>\n",
       "    </tr>\n",
       "  </tbody>\n",
       "</table>\n",
       "</div>"
      ],
      "text/plain": [
       "      Ticker  Open Price       Date        Volume Ticker2  Open Price2  \\\n",
       "11308  VLGEA      23.430 2011-09-06  3.397350e+05   VLGEA        33.37   \n",
       "7636     NEM      24.025 2014-02-21  5.527504e+08     NEM        25.52   \n",
       "2412    CLFD      13.700 2015-11-25  4.617037e+05    CLFD        19.55   \n",
       "3578      DY      81.190 2017-09-01  5.905135e+07      DY        83.49   \n",
       "6650     LSI      94.060 2015-02-24  1.041348e+07     LSI       106.06   \n",
       "\n",
       "           Date2       Volume2  \n",
       "11308 2012-09-04  7.775210e+05  \n",
       "7636  2015-02-23  1.941982e+08  \n",
       "2412  2016-11-25  4.506470e+05  \n",
       "3578  2018-09-04  5.703436e+07  \n",
       "6650  2016-02-24  2.836946e+07  "
      ]
     },
     "execution_count": 70,
     "metadata": {},
     "output_type": "execute_result"
    }
   ],
   "source": [
    "y_.head()"
   ]
  },
  {
   "cell_type": "markdown",
   "metadata": {},
   "source": [
    "# Z score to account for default chance"
   ]
  },
  {
   "cell_type": "code",
   "execution_count": 71,
   "metadata": {},
   "outputs": [],
   "source": [
    "# Calculate Altman Z'' scores 1995\n",
    "def calcZScores(x):\n",
    "    Z = pd.DataFrame()\n",
    "    Z['Z score'] = 3.25 \\\n",
    "    + 6.51 * x['(CA-CL)/TA']\\\n",
    "    + 3.26 * x['RE/TA']\\\n",
    "    + 6.72 * x['EBIT/TA']\\\n",
    "    + 1.05 * x['Book Equity/TL']\n",
    "    return Z"
   ]
  },
  {
   "cell_type": "code",
   "execution_count": 72,
   "metadata": {},
   "outputs": [
    {
     "data": {
      "text/html": [
       "<div>\n",
       "<style scoped>\n",
       "    .dataframe tbody tr th:only-of-type {\n",
       "        vertical-align: middle;\n",
       "    }\n",
       "\n",
       "    .dataframe tbody tr th {\n",
       "        vertical-align: top;\n",
       "    }\n",
       "\n",
       "    .dataframe thead th {\n",
       "        text-align: right;\n",
       "    }\n",
       "</style>\n",
       "<table border=\"1\" class=\"dataframe\">\n",
       "  <thead>\n",
       "    <tr style=\"text-align: right;\">\n",
       "      <th></th>\n",
       "      <th>Z score</th>\n",
       "    </tr>\n",
       "  </thead>\n",
       "  <tbody>\n",
       "    <tr>\n",
       "      <th>0</th>\n",
       "      <td>7.664439</td>\n",
       "    </tr>\n",
       "    <tr>\n",
       "      <th>1</th>\n",
       "      <td>7.435224</td>\n",
       "    </tr>\n",
       "    <tr>\n",
       "      <th>2</th>\n",
       "      <td>7.538172</td>\n",
       "    </tr>\n",
       "    <tr>\n",
       "      <th>3</th>\n",
       "      <td>9.311402</td>\n",
       "    </tr>\n",
       "    <tr>\n",
       "      <th>4</th>\n",
       "      <td>8.385200</td>\n",
       "    </tr>\n",
       "  </tbody>\n",
       "</table>\n",
       "</div>"
      ],
      "text/plain": [
       "    Z score\n",
       "0  7.664439\n",
       "1  7.435224\n",
       "2  7.538172\n",
       "3  9.311402\n",
       "4  8.385200"
      ]
     },
     "execution_count": 72,
     "metadata": {},
     "output_type": "execute_result"
    }
   ],
   "source": [
    "z = calcZScores(x)\n",
    "z.head()"
   ]
  },
  {
   "cell_type": "markdown",
   "metadata": {},
   "source": [
    "# Backtest Program"
   ]
  },
  {
   "cell_type": "code",
   "execution_count": 73,
   "metadata": {},
   "outputs": [],
   "source": [
    "# Daily stock price time series for ALL stocks. 5M rows. Some days missing.\n",
    "def getYRawData():\n",
    "    daily_stock_prices=pd.read_csv('C:/Users/G50/Stock_Data/SimFin/us-shareprices-daily/us-shareprices-daily.csv',\\\n",
    "                                   delimiter=';')\n",
    "    daily_stock_prices[\"Date\"]=pd.to_datetime(daily_stock_prices[\"Date\"])\n",
    "    print('Reading historical time series stock data, matrix size is: ', daily_stock_prices.shape)\n",
    "    return daily_stock_prices"
   ]
  },
  {
   "cell_type": "code",
   "execution_count": 74,
   "metadata": {},
   "outputs": [],
   "source": [
    "def getYPerf(y_):\n",
    "    y=pd.DataFrame()\n",
    "    y[\"Ticker\"] = y_[\"Ticker\"]\n",
    "    y[\"Perf\"]=(y_[\"Open Price2\"]-y_[\"Open Price\"])/y_[\"Open Price\"]\n",
    "    y[y[\"Perf\"].isnull()]=0\n",
    "    return y"
   ]
  },
  {
   "cell_type": "code",
   "execution_count": 75,
   "metadata": {},
   "outputs": [],
   "source": [
    "def getStockPriceBetweenDates(date1, date2, ticker, d, rows):\n",
    "#     # Alternative way\n",
    "#     rows = d[(d[\"Date\"].between(pd.to_datetime(date1),\\\n",
    "#                                 pd.to_datetime(date2) )) \\\n",
    "#                                  & (d[\"Ticker\"]==ticker)]\n",
    "    rows = d.loc[(d[\"Date\"].values>date1) &\\\n",
    "                 (d[\"Date\"].values<date2) &\\\n",
    "                 (d[\"Ticker\"]==ticker)]\n",
    "    return rows"
   ]
  },
  {
   "cell_type": "code",
   "execution_count": 76,
   "metadata": {},
   "outputs": [],
   "source": [
    "def getStockPriceData(ticker, y_, mask, daily_stock_prices, rows):\n",
    "    date1 = y_[mask][y_[mask][\"Ticker\"] == ticker][\"Date\"].values[0]\n",
    "    date2 = y_[mask][y_[mask][\"Ticker\"] == ticker][\"Date2\"].values[0]\n",
    "    rows = getStockPriceBetweenDates(date1, date2,\\\n",
    "                                     ticker, daily_stock_prices, rows)\n",
    "    return rows"
   ]
  },
  {
   "cell_type": "code",
   "execution_count": 77,
   "metadata": {},
   "outputs": [],
   "source": [
    "def getDataForDateRange(date_Index_New, rows):\n",
    "    WeeklyStockDataRows = pd.DataFrame()\n",
    "    for I in date_Index_New:\n",
    "        WeeklyStockDataRows = WeeklyStockDataRows.append(\\\n",
    "          rows.iloc[rows.index.get_loc(I, method=\"nearest\")])\n",
    "    return WeeklyStockDataRows"
   ]
  },
  {
   "cell_type": "code",
   "execution_count": 78,
   "metadata": {},
   "outputs": [],
   "source": [
    "def getStockTimeSeries(dateTimeIndex, y_, tickers, mask, daily_stock_prices):\n",
    "    stockRet = pd.DataFrame(index=dateTimeIndex)\n",
    "    dTI_new = dateTimeIndex.strftime('%Y-%m-%d') # Change Date Format\n",
    "    rows=pd.DataFrame()\n",
    "    for tick in tickers:\n",
    "        # Here \"rows\" is stock price time series data for individual stock\n",
    "        rows = getStockPriceData(tick, y_, mask, daily_stock_prices, rows)\n",
    "        rows.index = pd.DatetimeIndex(rows[\"Date\"])\n",
    "        WeeklyStockDataRows = getDataForDateRange(dTI_new, rows)\n",
    "        # Here can use Open, Close, Adj. Close, etc. price\n",
    "        stockRet[tick]=WeeklyStockDataRows[\"Close\"].values\n",
    "    return stockRet"
   ]
  },
  {
   "cell_type": "code",
   "execution_count": 79,
   "metadata": {},
   "outputs": [],
   "source": [
    "def getPortfolioRelativeTimeSeries(stockRet):\n",
    "    for key in stockRet.keys():\n",
    "        stockRet[key]=stockRet[key]/stockRet[key][0]\n",
    "    stockRet[\"Portfolio\"] = stockRet.sum(axis=1)/(stockRet.keys().shape[0])\n",
    "    return stockRet"
   ]
  },
  {
   "cell_type": "code",
   "execution_count": 91,
   "metadata": {},
   "outputs": [],
   "source": [
    "### First tutorial function reader will write for backtest, will add altmanZ score filter later in chapter. ###\n",
    "\n",
    "def getPortTimeSeriesForYear(date_starting, y_, x, daily_stock_prices, ml_model_pipeline):\n",
    "    # get y dataframe as ticker and ticker performance only\n",
    "    y = getYPerf(y_)\n",
    "    # Get performance only for time frame we care about,\n",
    "    # mask original data using the start date\n",
    "    mask = y_[\"Date\"].between(\\\n",
    "            pd.to_datetime(date_starting) - pd.Timedelta(days=60),\\\n",
    "            pd.to_datetime(date_starting) + pd.Timedelta(days=60) )\n",
    "    # Get return prediction from model\n",
    "    y_pred = ml_model_pipeline.predict(x[mask])\n",
    "    # Make it a DataFrame to select the top picks\n",
    "    y_pred = pd.DataFrame(y_pred)\n",
    "    # Bool list of top stocks\n",
    "    bl = (y_pred[0] > y_pred.nlargest(8,0).tail(1)[0].values[0]) \n",
    "    # DatetimeIndex\n",
    "    dateTimeIndex = pd.date_range(\\\n",
    "                        start=date_starting, periods=52, freq='W')\n",
    "    # 7 greatest performance stocks of y_pred \n",
    "    ticker_list = y[mask].reset_index(drop=True)[bl][\"Ticker\"].values\n",
    "    \n",
    "    # Issue with one of the tickers equaling 0, fix with lambda function\n",
    "    #ticker_list = list(filter(lambda dateTimeIndex: dateTimeIndex != 0, ticker_list))\n",
    "\n",
    "    # After we know our stock picks, we get the stock performance\n",
    "    # Get DataFrame index of time stamp, series of stock prices, keys=tickers\n",
    "    stockRet = getStockTimeSeries(dateTimeIndex, y_, ticker_list, mask, daily_stock_prices)\n",
    "    # Get DataFrame of relative stock prices from 1st day(or close) and wnole portfolio\n",
    "    stockRetRel = getPortfolioRelativeTimeSeries(stockRet)\n",
    "    return [stockRetRel, stockRetRel[\"Portfolio\"], ticker_list]"
   ]
  },
  {
   "cell_type": "code",
   "execution_count": 96,
   "metadata": {},
   "outputs": [],
   "source": [
    "# Function returns to us dataframes of selected stocks/portfolio performance for 1 year.\n",
    "# y_ is annual stock performances (all backtest years)\n",
    "# date_starting e.g. '2010-01-01'\n",
    "# daily_stock_prices is daily(mostly) stock price time series for ALL stocks\n",
    "def getPortTimeSeriesForYear(date_starting, y_, x, daily_stock_prices, ml_model_pipeline):\n",
    "    # get y dataframe as ticker and ticker performance only\n",
    "    y = getYPerf(y_)\n",
    "    # Get performance only for time frame we care about,\n",
    "    # mask original data using the start date\n",
    "    mask = y_[\"Date\"].between(\\\n",
    "              pd.to_datetime(date_starting) - pd.Timedelta(days=60),\\\n",
    "              pd.to_datetime(date_starting) + pd.Timedelta(days=60) )\n",
    "    # Get return prediction from model\n",
    "    y_pred = ml_model_pipeline.predict(x[mask])\n",
    "    # Make it a DataFrame to select the top picks\n",
    "    y_pred = pd.DataFrame(y_pred)\n",
    "    \n",
    "    \n",
    "    ##### Change in code for Z score filtering ##### \n",
    "    # Separate out stocks with low Z scores\n",
    "    z = calcZScores(x)\n",
    "    # 3.75 is approx. B- rating\n",
    "    zbl = (z['Z score'][mask].reset_index(drop=True) > 2) \n",
    "    y_pred_z = y_pred[zbl]\n",
    "    # Get bool list of top stocks\n",
    "    bl = (y_pred_z[0] > y_pred_z.nlargest(8,0).tail(1)[0].values[0]) \n",
    "    dateTimeIndex = pd.date_range(\\\n",
    "                          start=date_starting, periods=52, freq='W')\n",
    "    # See Z scores\n",
    "    #print(z['Z score'][mask].reset_index(drop=True)[bl & zbl]) \n",
    "    # 7 greatest performance stocks of y_pred \n",
    "    ticker_list = \\\n",
    "    y[mask].reset_index(drop=True)[bl & zbl][\"Ticker\"].values\n",
    "    ##### Change in code for Z score filtering ##### \n",
    "    \n",
    "    \n",
    "#     ##### Tutorial code without Z score filtering ##### \n",
    "      # bool list of top stocks\n",
    "#     bl = (y_pred[0] > y_pred.nlargest(8,0).tail(1)[0].values[0]) \n",
    "      # DatetimeIndex\n",
    "#     dateTimeIndex = pd.date_range(start=date_starting, periods=52, freq='W')\n",
    "#     # 7 greatest performance stocks of y_pred \n",
    "#     ticker_list = y[mask].reset_index(drop=True)[bl][\"Ticker\"].values\n",
    "#     ##### Tutorial code without Z score filtering ##### \n",
    "    \n",
    "    \n",
    "    # Issue with one of the tickers equaling 0, fix with lambda function\n",
    "    #ticker_list = list(filter(lambda dateTimeIndex: dateTimeIndex != 0, ticker_list))\n",
    "    \n",
    "    # After we know our stock picks, we get the stock performance\n",
    "    # Get DataFrame index of time stamp, series of stock prices, keys=tickers\n",
    "    stockRet = getStockTimeSeries(dateTimeIndex, y_,\\\n",
    "                                  ticker_list, mask, daily_stock_prices)\n",
    "    # Get DataFrame of relative stock prices from 1st day(or close) \n",
    "    # and whole portfolio\n",
    "    stockRetRel = getPortfolioRelativeTimeSeries(stockRet)\n",
    "    return [stockRetRel, stockRetRel[\"Portfolio\"], ticker_list]"
   ]
  },
  {
   "cell_type": "code",
   "execution_count": 82,
   "metadata": {},
   "outputs": [],
   "source": [
    "def getPortTimeSeries(y_, x, daily_stock_prices, ml_model_pipeline, verbose=True):\n",
    "    dr=pd.date_range(start='2009-01-01', periods=9, freq='Y') # Date range\n",
    "    port_perf_all_years = pd.DataFrame()\n",
    "    ref=1 # relative performance reference.\n",
    "    for curr_date in dr:\n",
    "        [comp, this_year_perf, ticker_list] = \\\n",
    "        getPortTimeSeriesForYear(curr_date, y_, x,\\\n",
    "                                 daily_stock_prices, ml_model_pipeline)\n",
    "        if verbose:\n",
    "            print(\"Backtest performance for year starting \",\\\n",
    "                  curr_date, \" is:\",\\\n",
    "                  round((this_year_perf.iloc[-1]-1)*100,2), \"%\")\n",
    "            print(\"With stocks:\", ticker_list)\n",
    "            for tick in ticker_list:\n",
    "                print(tick, \"Performance was:\",\\\n",
    "                      round((comp[tick].iloc[-1]-1)*100,2), \"%\" )\n",
    "            print(\"---------------------------------------------\")\n",
    "        \n",
    "        this_year_perf = this_year_perf * ref\n",
    "        port_perf_all_years = pd.concat([port_perf_all_years,\\\n",
    "                                         this_year_perf])\n",
    "        ref = this_year_perf.iloc[-1]\n",
    "    port_perf_all_years.columns = [\"Indexed Performance\"]\n",
    "    return port_perf_all_years"
   ]
  },
  {
   "cell_type": "markdown",
   "metadata": {},
   "source": [
    "# Run a Backtest"
   ]
  },
  {
   "cell_type": "code",
   "execution_count": 37,
   "metadata": {},
   "outputs": [
    {
     "name": "stdout",
     "output_type": "stream",
     "text": [
      "Reading historical time series stock data, matrix size is:  (5289952, 10)\n"
     ]
    }
   ],
   "source": [
    "daily_stock_prices=getYRawData()"
   ]
  },
  {
   "cell_type": "code",
   "execution_count": 97,
   "metadata": {
    "scrolled": false
   },
   "outputs": [
    {
     "name": "stdout",
     "output_type": "stream",
     "text": [
      "Backtest performance for year starting  2009-12-31 00:00:00  is: 21.64 %\n",
      "With stocks: ['HRI' 'ANDV' 'ARRS' 'IPI' 'DISH' 'PHM' 'NDSN']\n",
      "HRI Performance was: 38.56 %\n",
      "ANDV Performance was: 43.26 %\n",
      "ARRS Performance was: 16.65 %\n",
      "IPI Performance was: 41.68 %\n",
      "DISH Performance was: 6.95 %\n",
      "PHM Performance was: -32.7 %\n",
      "NDSN Performance was: 37.09 %\n",
      "---------------------------------------------\n",
      "Backtest performance for year starting  2010-12-31 00:00:00  is: -14.42 %\n",
      "With stocks: ['RDC' 'BZH' 'PACB' 'SBH' 'IFON' 'DNB' 'BSET']\n",
      "RDC Performance was: -26.07 %\n",
      "BZH Performance was: -57.63 %\n",
      "PACB Performance was: -83.1 %\n",
      "SBH Performance was: 32.24 %\n",
      "IFON Performance was: -34.57 %\n",
      "DNB Performance was: -12.8 %\n",
      "BSET Performance was: 81.0 %\n",
      "---------------------------------------------\n",
      "Backtest performance for year starting  2011-12-31 00:00:00  is: 56.83 %\n",
      "With stocks: ['VAC' 'DNB' 'FORM' 'SRPT' 'BZH' 'CCXI' 'PCMI']\n",
      "VAC Performance was: 101.35 %\n",
      "DNB Performance was: -0.51 %\n",
      "FORM Performance was: -12.9 %\n",
      "SRPT Performance was: 279.05 %\n",
      "BZH Performance was: 29.76 %\n",
      "CCXI Performance was: -2.34 %\n",
      "PCMI Performance was: 3.36 %\n",
      "---------------------------------------------\n",
      "Backtest performance for year starting  2012-12-31 00:00:00  is: 41.65 %\n",
      "With stocks: ['HIL' 'RGLS' 'GPRE' 'AXL' 'AWRE' 'HCA' 'KKR']\n",
      "HIL Performance was: 12.24 %\n",
      "RGLS Performance was: 35.74 %\n",
      "GPRE Performance was: 95.45 %\n",
      "AXL Performance was: 62.22 %\n",
      "AWRE Performance was: 21.2 %\n",
      "HCA Performance was: 27.23 %\n",
      "KKR Performance was: 37.46 %\n",
      "---------------------------------------------\n",
      "Backtest performance for year starting  2013-12-31 00:00:00  is: -9.1 %\n",
      "With stocks: ['TNDM' 'SBH' 'OCC' 'BXC' 'TWTR' 'ODP' 'HEAR']\n",
      "TNDM Performance was: -50.5 %\n",
      "SBH Performance was: 0.93 %\n",
      "OCC Performance was: 41.85 %\n",
      "BXC Performance was: -21.23 %\n",
      "TWTR Performance was: -32.99 %\n",
      "ODP Performance was: 75.35 %\n",
      "HEAR Performance was: -77.09 %\n",
      "---------------------------------------------\n",
      "Backtest performance for year starting  2014-12-31 00:00:00  is: 2.62 %\n",
      "With stocks: ['DMRC' 'ARRS' 'MSI' 'POST' 'BXC' 'LAZ' 'KKR']\n",
      "DMRC Performance was: 46.75 %\n",
      "ARRS Performance was: 0.44 %\n",
      "MSI Performance was: -0.87 %\n",
      "POST Performance was: 72.68 %\n",
      "BXC Performance was: -55.96 %\n",
      "LAZ Performance was: -11.68 %\n",
      "KKR Performance was: -33.05 %\n",
      "---------------------------------------------\n",
      "Backtest performance for year starting  2015-12-31 00:00:00  is: 41.2 %\n",
      "With stocks: ['CCS' 'V' 'BZH' 'RFP' 'KKR' 'MDR' 'FTI']\n",
      "CCS Performance was: 42.47 %\n",
      "V Performance was: 6.76 %\n",
      "BZH Performance was: -11.86 %\n",
      "RFP Performance was: 18.14 %\n",
      "KKR Performance was: 23.99 %\n",
      "MDR Performance was: 169.12 %\n",
      "FTI Performance was: 39.77 %\n",
      "---------------------------------------------\n",
      "Backtest performance for year starting  2016-12-31 00:00:00  is: 16.15 %\n",
      "With stocks: ['ALPN' 'TA' 'RFP' 'ADRO' 'HPQ' 'SHOS' 'KKR']\n",
      "ALPN Performance was: 10.0 %\n",
      "TA Performance was: -34.15 %\n",
      "RFP Performance was: 146.15 %\n",
      "ADRO Performance was: -31.11 %\n",
      "HPQ Performance was: 39.66 %\n",
      "SHOS Performance was: -33.33 %\n",
      "KKR Performance was: 15.84 %\n",
      "---------------------------------------------\n",
      "Backtest performance for year starting  2017-12-31 00:00:00  is: 17.85 %\n",
      "With stocks: ['CODA' 'IEP' 'LQDT' 'DISCA' 'V' 'OCC' 'KKR']\n",
      "CODA Performance was: 22.96 %\n",
      "IEP Performance was: -11.09 %\n",
      "LQDT Performance was: 54.68 %\n",
      "DISCA Performance was: 1.7 %\n",
      "V Performance was: 22.42 %\n",
      "OCC Performance was: 49.58 %\n",
      "KKR Performance was: -15.32 %\n",
      "---------------------------------------------\n",
      "Performance is:  316.9185738140508 %\n"
     ]
    }
   ],
   "source": [
    "#pl_linear.p, pl_ElasticNet.p, pl_KNeighbors.p, pl_rfregressor.p, pl_decTree.p, pl_svm.p\n",
    "regressor_pipeline = pickle.load(open(\"pl_linear.p\", \"rb\" ))\n",
    "#regressor_pipeline = pickle.load(open(\"rfregressor.p\", \"rb\" ))\n",
    "test = getPortTimeSeries(y_, X_test, daily_stock_prices, regressor_pipeline, verbose=True)\n",
    "print('Performance is: ', 100 * (test[\"Indexed Performance\"][-1]-1), '%')"
   ]
  },
  {
   "cell_type": "code",
   "execution_count": 98,
   "metadata": {},
   "outputs": [
    {
     "data": {
      "image/png": "[encoded data removed]",
      "text/plain": [
       "<Figure size 360x360 with 1 Axes>"
      ]
     },
     "metadata": {
      "needs_background": "light"
     },
     "output_type": "display_data"
    }
   ],
   "source": [
    "plt.plot(test)\n",
    "plt.grid()\n",
    "plt.legend(['Portfolio Backtest Returns'])\n",
    "plt.ylabel('Relative Performance');"
   ]
  },
  {
   "cell_type": "markdown",
   "metadata": {},
   "source": [
    "# Investigating The Results"
   ]
  },
  {
   "cell_type": "code",
   "execution_count": 41,
   "metadata": {
    "scrolled": false
   },
   "outputs": [],
   "source": [
    "y_small = getYPerf(y_) # y is cut down version of y_ with stock returns only\n",
    "\n",
    "# Create a boolean mask for the backtest year we are interested in\n",
    "date = pd.to_datetime('2015-01-01 07:00:00')\n",
    "mask = y_[\"Date\"].between( pd.to_datetime(date) - pd.Timedelta(days=60), pd.to_datetime(date) + pd.Timedelta(days=60) )\n",
    "#y_[mask] # Checking the mask works\n",
    "#x[mask]"
   ]
  },
  {
   "cell_type": "code",
   "execution_count": 59,
   "metadata": {},
   "outputs": [
    {
     "data": {
      "image/png": "[encoded data removed]",
      "text/plain": [
       "<Figure size 432x432 with 1 Axes>"
      ]
     },
     "metadata": {
      "needs_background": "light"
     },
     "output_type": "display_data"
    }
   ],
   "source": [
    "# Load the model pipeline\n",
    "# can be pl_linear.p, pl_KNeighbors.p, pl_rfregressor.p, pl_decTree.p, pl_svm.p ...\n",
    "ml_model_pipeline = pickle.load(open(\"pl_linear.p\", \"rb\" ))\n",
    "y_pred = ml_model_pipeline.predict(X_test[mask]) # Get stock performance predictions\n",
    "y_pred = pd.DataFrame(y_pred) # Turn into DataFrame\n",
    "\n",
    "plt.figure(figsize=(6,6))\n",
    "# Now output graph.\n",
    "from matplotlib import pyplot as plt\n",
    "import matplotlib.lines as mlines\n",
    "plt.scatter(y_pred[0], y_small[mask][\"Perf\"], s=1)\n",
    "# Formatting\n",
    "plt.grid()\n",
    "plt.axis('equal')\n",
    "plt.title('Returns accuracy for {} backtest'.format(date.year))\n",
    "plt.xlabel('Predicted Return')\n",
    "plt.ylabel('Actual Return')\n",
    "plt.axvline(c='blue', lw=1)\n",
    "plt.axhline(c='blue', lw=1)\n",
    "plt.savefig('result.png')\n",
    "plt.axis([-1,1,-1,1]);"
   ]
  },
  {
   "cell_type": "code",
   "execution_count": 60,
   "metadata": {
    "scrolled": false
   },
   "outputs": [
    {
     "name": "stdout",
     "output_type": "stream",
     "text": [
      "\n",
      "Top predicted perf. stocks picked are:\n",
      "1      CNXR\n",
      "65     BNFT\n",
      "166     NAV\n",
      "219     BXC\n",
      "224    INVA\n",
      "284     LEE\n",
      "395     UIS\n",
      "Name: Ticker, dtype: object\n",
      "\n",
      "Top stocks predicted performance is:\n",
      "            0\n",
      "1    0.342796\n",
      "65   0.310343\n",
      "166  0.344782\n",
      "219  0.360295\n",
      "224  0.360158\n",
      "284  0.314698\n",
      "395  0.340687\n",
      "\n",
      "Actual performance was: \n",
      "    Ticker      Perf\n",
      "1     CNXR -0.671378\n",
      "65    BNFT  0.020316\n",
      "166    NAV -0.732625\n",
      "219    BXC -0.601770\n",
      "224   INVA -0.364440\n",
      "284    LEE -0.575342\n",
      "395    UIS -0.545455\n",
      "\n",
      "Z scores:\n",
      " 1     -2.000570\n",
      "65    -4.858631\n",
      "166    1.229350\n",
      "219    5.410565\n",
      "224   -6.243600\n",
      "284    1.981171\n",
      "395    1.731922\n",
      "dtype: float64\n"
     ]
    }
   ],
   "source": [
    "# Top stocks picked, and predicted performance.\n",
    "bl = (y_pred[0] > y_pred.nlargest(8,0).tail(1)[0].values[0])\n",
    "\n",
    "print(\"\\nTop predicted perf. stocks picked are:\")\n",
    "print(y_small[mask].reset_index(drop=True)[bl][\"Ticker\"])\n",
    "print(\"\\nTop stocks predicted performance is:\")\n",
    "print(y_pred[bl])\n",
    "\n",
    "\n",
    "print(\"\\nActual performance was: \")\n",
    "print(y_small[mask].reset_index(drop=True)[bl])\n",
    "\n",
    "# Calc Altman Z score:\n",
    "Z = 3.25 \\\n",
    "+ 6.51 * X_test[mask].reset_index(drop=True)[bl]['(CA-CL)/TA']\\\n",
    "+ 3.26 * X_test[mask].reset_index(drop=True)[bl]['RE/TA']\\\n",
    "+ 6.72 * X_test[mask].reset_index(drop=True)[bl]['EBIT/TA']\\\n",
    "+ 1.05 * X_test[mask].reset_index(drop=True)[bl]['Book Equity/TL']\n",
    "print('\\nZ scores:\\n',Z)"
   ]
  },
  {
   "cell_type": "code",
   "execution_count": 61,
   "metadata": {},
   "outputs": [
    {
     "name": "stdout",
     "output_type": "stream",
     "text": [
      "Backtest return is:\n",
      "-0.495813387620907\n"
     ]
    }
   ],
   "source": [
    "# bool list of 7 greatest performance stocks of y_pred \n",
    "bl = (y_pred[0] > y_pred.nlargest(8,0).tail(1)[0].values[0])\n",
    "\n",
    "# See what the performance is of the selection\n",
    "print(\"Backtest return is:\")\n",
    "print(y_small[mask][\"Perf\"].reset_index(drop=True)[bl].values.mean())"
   ]
  },
  {
   "cell_type": "code",
   "execution_count": 62,
   "metadata": {},
   "outputs": [
    {
     "name": "stdout",
     "output_type": "stream",
     "text": [
      "Reading historical time series stock data, matrix size is:  (5289952, 10)\n"
     ]
    }
   ],
   "source": [
    "d = getYRawData()"
   ]
  },
  {
   "cell_type": "code",
   "execution_count": 63,
   "metadata": {},
   "outputs": [
    {
     "data": {
      "text/html": [
       "<div>\n",
       "<style scoped>\n",
       "    .dataframe tbody tr th:only-of-type {\n",
       "        vertical-align: middle;\n",
       "    }\n",
       "\n",
       "    .dataframe tbody tr th {\n",
       "        vertical-align: top;\n",
       "    }\n",
       "\n",
       "    .dataframe thead th {\n",
       "        text-align: right;\n",
       "    }\n",
       "</style>\n",
       "<table border=\"1\" class=\"dataframe\">\n",
       "  <thead>\n",
       "    <tr style=\"text-align: right;\">\n",
       "      <th></th>\n",
       "      <th>Ticker</th>\n",
       "      <th>Open Price</th>\n",
       "      <th>Date</th>\n",
       "      <th>Volume</th>\n",
       "      <th>Ticker2</th>\n",
       "      <th>Open Price2</th>\n",
       "      <th>Date2</th>\n",
       "      <th>Volume2</th>\n",
       "    </tr>\n",
       "  </thead>\n",
       "  <tbody>\n",
       "    <tr>\n",
       "      <th>6650</th>\n",
       "      <td>LSI</td>\n",
       "      <td>94.0600</td>\n",
       "      <td>2015-02-24</td>\n",
       "      <td>1.041348e+07</td>\n",
       "      <td>LSI</td>\n",
       "      <td>106.0600</td>\n",
       "      <td>2016-02-24</td>\n",
       "      <td>2.836946e+07</td>\n",
       "    </tr>\n",
       "    <tr>\n",
       "      <th>2608</th>\n",
       "      <td>CNXR</td>\n",
       "      <td>8.4900</td>\n",
       "      <td>2015-02-17</td>\n",
       "      <td>5.751211e+05</td>\n",
       "      <td>CNXR</td>\n",
       "      <td>2.7900</td>\n",
       "      <td>2016-02-16</td>\n",
       "      <td>9.495486e+04</td>\n",
       "    </tr>\n",
       "    <tr>\n",
       "      <th>3971</th>\n",
       "      <td>ETM</td>\n",
       "      <td>11.3800</td>\n",
       "      <td>2015-03-02</td>\n",
       "      <td>8.221253e+05</td>\n",
       "      <td>ETM</td>\n",
       "      <td>11.5000</td>\n",
       "      <td>2016-03-01</td>\n",
       "      <td>1.012724e+06</td>\n",
       "    </tr>\n",
       "    <tr>\n",
       "      <th>7757</th>\n",
       "      <td>NLS</td>\n",
       "      <td>15.2800</td>\n",
       "      <td>2015-02-26</td>\n",
       "      <td>3.851492e+06</td>\n",
       "      <td>NLS</td>\n",
       "      <td>18.3100</td>\n",
       "      <td>2016-02-26</td>\n",
       "      <td>5.505140e+06</td>\n",
       "    </tr>\n",
       "    <tr>\n",
       "      <th>3424</th>\n",
       "      <td>DNOW</td>\n",
       "      <td>22.3500</td>\n",
       "      <td>2015-02-25</td>\n",
       "      <td>4.420258e+07</td>\n",
       "      <td>DNOW</td>\n",
       "      <td>14.9700</td>\n",
       "      <td>2016-02-25</td>\n",
       "      <td>3.979035e+07</td>\n",
       "    </tr>\n",
       "    <tr>\n",
       "      <th>...</th>\n",
       "      <td>...</td>\n",
       "      <td>...</td>\n",
       "      <td>...</td>\n",
       "      <td>...</td>\n",
       "      <td>...</td>\n",
       "      <td>...</td>\n",
       "      <td>...</td>\n",
       "      <td>...</td>\n",
       "    </tr>\n",
       "    <tr>\n",
       "      <th>5659</th>\n",
       "      <td>INTL</td>\n",
       "      <td>17.8700</td>\n",
       "      <td>2014-12-10</td>\n",
       "      <td>4.878510e+05</td>\n",
       "      <td>INTL</td>\n",
       "      <td>36.9700</td>\n",
       "      <td>2015-12-10</td>\n",
       "      <td>7.959641e+06</td>\n",
       "    </tr>\n",
       "    <tr>\n",
       "      <th>8161</th>\n",
       "      <td>ON</td>\n",
       "      <td>12.9100</td>\n",
       "      <td>2015-02-27</td>\n",
       "      <td>9.540835e+07</td>\n",
       "      <td>ON</td>\n",
       "      <td>8.4600</td>\n",
       "      <td>2016-02-29</td>\n",
       "      <td>2.318844e+07</td>\n",
       "    </tr>\n",
       "    <tr>\n",
       "      <th>11199</th>\n",
       "      <td>UTX</td>\n",
       "      <td>74.4242</td>\n",
       "      <td>2015-02-05</td>\n",
       "      <td>3.488483e+08</td>\n",
       "      <td>UTX</td>\n",
       "      <td>55.4059</td>\n",
       "      <td>2016-02-05</td>\n",
       "      <td>2.890340e+08</td>\n",
       "    </tr>\n",
       "    <tr>\n",
       "      <th>4041</th>\n",
       "      <td>EXAS</td>\n",
       "      <td>23.3900</td>\n",
       "      <td>2015-02-27</td>\n",
       "      <td>6.206490e+07</td>\n",
       "      <td>EXAS</td>\n",
       "      <td>5.7400</td>\n",
       "      <td>2016-02-29</td>\n",
       "      <td>1.880946e+07</td>\n",
       "    </tr>\n",
       "    <tr>\n",
       "      <th>3503</th>\n",
       "      <td>DTE</td>\n",
       "      <td>84.5200</td>\n",
       "      <td>2015-02-13</td>\n",
       "      <td>2.067589e+08</td>\n",
       "      <td>DTE</td>\n",
       "      <td>83.6400</td>\n",
       "      <td>2016-02-16</td>\n",
       "      <td>1.132256e+08</td>\n",
       "    </tr>\n",
       "  </tbody>\n",
       "</table>\n",
       "<p>447 rows × 8 columns</p>\n",
       "</div>"
      ],
      "text/plain": [
       "      Ticker  Open Price       Date        Volume Ticker2  Open Price2  \\\n",
       "6650     LSI     94.0600 2015-02-24  1.041348e+07     LSI     106.0600   \n",
       "2608    CNXR      8.4900 2015-02-17  5.751211e+05    CNXR       2.7900   \n",
       "3971     ETM     11.3800 2015-03-02  8.221253e+05     ETM      11.5000   \n",
       "7757     NLS     15.2800 2015-02-26  3.851492e+06     NLS      18.3100   \n",
       "3424    DNOW     22.3500 2015-02-25  4.420258e+07    DNOW      14.9700   \n",
       "...      ...         ...        ...           ...     ...          ...   \n",
       "5659    INTL     17.8700 2014-12-10  4.878510e+05    INTL      36.9700   \n",
       "8161      ON     12.9100 2015-02-27  9.540835e+07      ON       8.4600   \n",
       "11199    UTX     74.4242 2015-02-05  3.488483e+08     UTX      55.4059   \n",
       "4041    EXAS     23.3900 2015-02-27  6.206490e+07    EXAS       5.7400   \n",
       "3503     DTE     84.5200 2015-02-13  2.067589e+08     DTE      83.6400   \n",
       "\n",
       "           Date2       Volume2  \n",
       "6650  2016-02-24  2.836946e+07  \n",
       "2608  2016-02-16  9.495486e+04  \n",
       "3971  2016-03-01  1.012724e+06  \n",
       "7757  2016-02-26  5.505140e+06  \n",
       "3424  2016-02-25  3.979035e+07  \n",
       "...          ...           ...  \n",
       "5659  2015-12-10  7.959641e+06  \n",
       "8161  2016-02-29  2.318844e+07  \n",
       "11199 2016-02-05  2.890340e+08  \n",
       "4041  2016-02-29  1.880946e+07  \n",
       "3503  2016-02-16  1.132256e+08  \n",
       "\n",
       "[447 rows x 8 columns]"
      ]
     },
     "execution_count": 63,
     "metadata": {},
     "output_type": "execute_result"
    }
   ],
   "source": [
    "y_[mask]"
   ]
  },
  {
   "cell_type": "code",
   "execution_count": 56,
   "metadata": {},
   "outputs": [
    {
     "data": {
      "image/png": "[encoded data removed]",
      "text/plain": [
       "<Figure size 360x360 with 1 Axes>"
      ]
     },
     "metadata": {
      "needs_background": "light"
     },
     "output_type": "display_data"
    }
   ],
   "source": [
    "rows = getStockPriceData(\"NAV\", y_, mask, d, rows=pd.DataFrame())\n",
    "plt.plot(rows[\"Date\"], rows[\"Close\"]) # Adj. Close\n",
    "plt.grid(True)"
   ]
  },
  {
   "cell_type": "code",
   "execution_count": 51,
   "metadata": {},
   "outputs": [
    {
     "data": {
      "text/html": [
       "<div>\n",
       "<style scoped>\n",
       "    .dataframe tbody tr th:only-of-type {\n",
       "        vertical-align: middle;\n",
       "    }\n",
       "\n",
       "    .dataframe tbody tr th {\n",
       "        vertical-align: top;\n",
       "    }\n",
       "\n",
       "    .dataframe thead th {\n",
       "        text-align: right;\n",
       "    }\n",
       "</style>\n",
       "<table border=\"1\" class=\"dataframe\">\n",
       "  <thead>\n",
       "    <tr style=\"text-align: right;\">\n",
       "      <th></th>\n",
       "      <th>Ticker</th>\n",
       "      <th>SimFinId</th>\n",
       "      <th>Date</th>\n",
       "      <th>Open</th>\n",
       "      <th>Low</th>\n",
       "      <th>High</th>\n",
       "      <th>Close</th>\n",
       "      <th>Adj. Close</th>\n",
       "      <th>Dividend</th>\n",
       "      <th>Volume</th>\n",
       "    </tr>\n",
       "  </thead>\n",
       "  <tbody>\n",
       "    <tr>\n",
       "      <th>3894771</th>\n",
       "      <td>FMSA</td>\n",
       "      <td>645665</td>\n",
       "      <td>2015-02-18</td>\n",
       "      <td>31.50</td>\n",
       "      <td>31.50</td>\n",
       "      <td>33.950</td>\n",
       "      <td>33.15</td>\n",
       "      <td>33.15</td>\n",
       "      <td>NaN</td>\n",
       "      <td>748796</td>\n",
       "    </tr>\n",
       "    <tr>\n",
       "      <th>3894772</th>\n",
       "      <td>FMSA</td>\n",
       "      <td>645665</td>\n",
       "      <td>2015-02-19</td>\n",
       "      <td>32.55</td>\n",
       "      <td>31.00</td>\n",
       "      <td>34.000</td>\n",
       "      <td>33.80</td>\n",
       "      <td>33.80</td>\n",
       "      <td>NaN</td>\n",
       "      <td>721282</td>\n",
       "    </tr>\n",
       "    <tr>\n",
       "      <th>3894773</th>\n",
       "      <td>FMSA</td>\n",
       "      <td>645665</td>\n",
       "      <td>2015-02-20</td>\n",
       "      <td>33.85</td>\n",
       "      <td>32.50</td>\n",
       "      <td>34.500</td>\n",
       "      <td>34.15</td>\n",
       "      <td>34.15</td>\n",
       "      <td>NaN</td>\n",
       "      <td>474127</td>\n",
       "    </tr>\n",
       "    <tr>\n",
       "      <th>3894774</th>\n",
       "      <td>FMSA</td>\n",
       "      <td>645665</td>\n",
       "      <td>2015-02-23</td>\n",
       "      <td>33.95</td>\n",
       "      <td>31.15</td>\n",
       "      <td>34.250</td>\n",
       "      <td>32.80</td>\n",
       "      <td>32.80</td>\n",
       "      <td>NaN</td>\n",
       "      <td>814672</td>\n",
       "    </tr>\n",
       "    <tr>\n",
       "      <th>3894775</th>\n",
       "      <td>FMSA</td>\n",
       "      <td>645665</td>\n",
       "      <td>2015-02-24</td>\n",
       "      <td>33.20</td>\n",
       "      <td>32.35</td>\n",
       "      <td>34.400</td>\n",
       "      <td>33.05</td>\n",
       "      <td>33.05</td>\n",
       "      <td>NaN</td>\n",
       "      <td>512890</td>\n",
       "    </tr>\n",
       "    <tr>\n",
       "      <th>...</th>\n",
       "      <td>...</td>\n",
       "      <td>...</td>\n",
       "      <td>...</td>\n",
       "      <td>...</td>\n",
       "      <td>...</td>\n",
       "      <td>...</td>\n",
       "      <td>...</td>\n",
       "      <td>...</td>\n",
       "      <td>...</td>\n",
       "      <td>...</td>\n",
       "    </tr>\n",
       "    <tr>\n",
       "      <th>3895016</th>\n",
       "      <td>FMSA</td>\n",
       "      <td>645665</td>\n",
       "      <td>2016-02-08</td>\n",
       "      <td>9.80</td>\n",
       "      <td>9.20</td>\n",
       "      <td>10.500</td>\n",
       "      <td>9.80</td>\n",
       "      <td>9.80</td>\n",
       "      <td>NaN</td>\n",
       "      <td>810348</td>\n",
       "    </tr>\n",
       "    <tr>\n",
       "      <th>3895017</th>\n",
       "      <td>FMSA</td>\n",
       "      <td>645665</td>\n",
       "      <td>2016-02-09</td>\n",
       "      <td>9.35</td>\n",
       "      <td>8.65</td>\n",
       "      <td>9.750</td>\n",
       "      <td>9.00</td>\n",
       "      <td>9.00</td>\n",
       "      <td>NaN</td>\n",
       "      <td>599601</td>\n",
       "    </tr>\n",
       "    <tr>\n",
       "      <th>3895018</th>\n",
       "      <td>FMSA</td>\n",
       "      <td>645665</td>\n",
       "      <td>2016-02-10</td>\n",
       "      <td>9.00</td>\n",
       "      <td>8.45</td>\n",
       "      <td>9.500</td>\n",
       "      <td>8.70</td>\n",
       "      <td>8.70</td>\n",
       "      <td>NaN</td>\n",
       "      <td>352975</td>\n",
       "    </tr>\n",
       "    <tr>\n",
       "      <th>3895019</th>\n",
       "      <td>FMSA</td>\n",
       "      <td>645665</td>\n",
       "      <td>2016-02-11</td>\n",
       "      <td>8.25</td>\n",
       "      <td>7.45</td>\n",
       "      <td>8.925</td>\n",
       "      <td>7.90</td>\n",
       "      <td>7.90</td>\n",
       "      <td>NaN</td>\n",
       "      <td>559372</td>\n",
       "    </tr>\n",
       "    <tr>\n",
       "      <th>3895020</th>\n",
       "      <td>FMSA</td>\n",
       "      <td>645665</td>\n",
       "      <td>2016-02-12</td>\n",
       "      <td>7.95</td>\n",
       "      <td>7.90</td>\n",
       "      <td>8.650</td>\n",
       "      <td>7.95</td>\n",
       "      <td>7.95</td>\n",
       "      <td>NaN</td>\n",
       "      <td>553825</td>\n",
       "    </tr>\n",
       "  </tbody>\n",
       "</table>\n",
       "<p>250 rows × 10 columns</p>\n",
       "</div>"
      ],
      "text/plain": [
       "        Ticker  SimFinId       Date   Open    Low    High  Close  Adj. Close  \\\n",
       "3894771   FMSA    645665 2015-02-18  31.50  31.50  33.950  33.15       33.15   \n",
       "3894772   FMSA    645665 2015-02-19  32.55  31.00  34.000  33.80       33.80   \n",
       "3894773   FMSA    645665 2015-02-20  33.85  32.50  34.500  34.15       34.15   \n",
       "3894774   FMSA    645665 2015-02-23  33.95  31.15  34.250  32.80       32.80   \n",
       "3894775   FMSA    645665 2015-02-24  33.20  32.35  34.400  33.05       33.05   \n",
       "...        ...       ...        ...    ...    ...     ...    ...         ...   \n",
       "3895016   FMSA    645665 2016-02-08   9.80   9.20  10.500   9.80        9.80   \n",
       "3895017   FMSA    645665 2016-02-09   9.35   8.65   9.750   9.00        9.00   \n",
       "3895018   FMSA    645665 2016-02-10   9.00   8.45   9.500   8.70        8.70   \n",
       "3895019   FMSA    645665 2016-02-11   8.25   7.45   8.925   7.90        7.90   \n",
       "3895020   FMSA    645665 2016-02-12   7.95   7.90   8.650   7.95        7.95   \n",
       "\n",
       "         Dividend  Volume  \n",
       "3894771       NaN  748796  \n",
       "3894772       NaN  721282  \n",
       "3894773       NaN  474127  \n",
       "3894774       NaN  814672  \n",
       "3894775       NaN  512890  \n",
       "...           ...     ...  \n",
       "3895016       NaN  810348  \n",
       "3895017       NaN  599601  \n",
       "3895018       NaN  352975  \n",
       "3895019       NaN  559372  \n",
       "3895020       NaN  553825  \n",
       "\n",
       "[250 rows x 10 columns]"
      ]
     },
     "execution_count": 51,
     "metadata": {},
     "output_type": "execute_result"
    }
   ],
   "source": [
    "rows"
   ]
  },
  {
   "cell_type": "markdown",
   "metadata": {},
   "source": [
    "# See how individual stocks perform\n",
    "With the program functions used individually"
   ]
  },
  {
   "cell_type": "code",
   "execution_count": 52,
   "metadata": {
    "scrolled": false
   },
   "outputs": [],
   "source": [
    "# Make X ticks standard, and grab stock prices as close to those points as possible for each stock (To track performance)\n",
    "date_range = pd.date_range(start=date, periods=52, freq='W')#DatetimeIndex\n",
    "\n",
    "# 7 greatest performance stocks of y_pred \n",
    "ticker_list = y[mask].reset_index(drop=True)[bl][\"Ticker\"].values\n",
    "stockRet = getStockTimeSeries(date_range, y_, ticker_list , mask, daily_stock_prices)"
   ]
  },
  {
   "cell_type": "code",
   "execution_count": 53,
   "metadata": {},
   "outputs": [],
   "source": [
    "stockRetRel = getPortfolioRelativeTimeSeries(stockRet)"
   ]
  },
  {
   "cell_type": "code",
   "execution_count": 54,
   "metadata": {},
   "outputs": [
    {
     "data": {
      "text/html": [
       "<div>\n",
       "<style scoped>\n",
       "    .dataframe tbody tr th:only-of-type {\n",
       "        vertical-align: middle;\n",
       "    }\n",
       "\n",
       "    .dataframe tbody tr th {\n",
       "        vertical-align: top;\n",
       "    }\n",
       "\n",
       "    .dataframe thead th {\n",
       "        text-align: right;\n",
       "    }\n",
       "</style>\n",
       "<table border=\"1\" class=\"dataframe\">\n",
       "  <thead>\n",
       "    <tr style=\"text-align: right;\">\n",
       "      <th></th>\n",
       "      <th>CNXR</th>\n",
       "      <th>BNFT</th>\n",
       "      <th>NAV</th>\n",
       "      <th>BXC</th>\n",
       "      <th>INVA</th>\n",
       "      <th>LEE</th>\n",
       "      <th>UIS</th>\n",
       "      <th>Portfolio</th>\n",
       "    </tr>\n",
       "  </thead>\n",
       "  <tbody>\n",
       "    <tr>\n",
       "      <th>2015-01-04 07:00:00</th>\n",
       "      <td>1.0</td>\n",
       "      <td>1.0</td>\n",
       "      <td>1.000000</td>\n",
       "      <td>1.0</td>\n",
       "      <td>1.0</td>\n",
       "      <td>1.000000</td>\n",
       "      <td>1.0</td>\n",
       "      <td>1.000000</td>\n",
       "    </tr>\n",
       "    <tr>\n",
       "      <th>2015-01-11 07:00:00</th>\n",
       "      <td>1.0</td>\n",
       "      <td>1.0</td>\n",
       "      <td>0.968278</td>\n",
       "      <td>1.0</td>\n",
       "      <td>1.0</td>\n",
       "      <td>0.951705</td>\n",
       "      <td>1.0</td>\n",
       "      <td>0.988569</td>\n",
       "    </tr>\n",
       "    <tr>\n",
       "      <th>2015-01-18 07:00:00</th>\n",
       "      <td>1.0</td>\n",
       "      <td>1.0</td>\n",
       "      <td>0.959819</td>\n",
       "      <td>1.0</td>\n",
       "      <td>1.0</td>\n",
       "      <td>0.897727</td>\n",
       "      <td>1.0</td>\n",
       "      <td>0.979649</td>\n",
       "    </tr>\n",
       "    <tr>\n",
       "      <th>2015-01-25 07:00:00</th>\n",
       "      <td>1.0</td>\n",
       "      <td>1.0</td>\n",
       "      <td>0.951662</td>\n",
       "      <td>1.0</td>\n",
       "      <td>1.0</td>\n",
       "      <td>0.894886</td>\n",
       "      <td>1.0</td>\n",
       "      <td>0.978078</td>\n",
       "    </tr>\n",
       "    <tr>\n",
       "      <th>2015-02-01 07:00:00</th>\n",
       "      <td>1.0</td>\n",
       "      <td>1.0</td>\n",
       "      <td>0.891843</td>\n",
       "      <td>1.0</td>\n",
       "      <td>1.0</td>\n",
       "      <td>0.835227</td>\n",
       "      <td>1.0</td>\n",
       "      <td>0.961010</td>\n",
       "    </tr>\n",
       "  </tbody>\n",
       "</table>\n",
       "</div>"
      ],
      "text/plain": [
       "                     CNXR  BNFT       NAV  BXC  INVA       LEE  UIS  Portfolio\n",
       "2015-01-04 07:00:00   1.0   1.0  1.000000  1.0   1.0  1.000000  1.0   1.000000\n",
       "2015-01-11 07:00:00   1.0   1.0  0.968278  1.0   1.0  0.951705  1.0   0.988569\n",
       "2015-01-18 07:00:00   1.0   1.0  0.959819  1.0   1.0  0.897727  1.0   0.979649\n",
       "2015-01-25 07:00:00   1.0   1.0  0.951662  1.0   1.0  0.894886  1.0   0.978078\n",
       "2015-02-01 07:00:00   1.0   1.0  0.891843  1.0   1.0  0.835227  1.0   0.961010"
      ]
     },
     "execution_count": 54,
     "metadata": {},
     "output_type": "execute_result"
    }
   ],
   "source": [
    "stockRetRel.head()"
   ]
  },
  {
   "cell_type": "code",
   "execution_count": 55,
   "metadata": {},
   "outputs": [
    {
     "data": {
      "image/png": "[encoded data removed]",
      "text/plain": [
       "<Figure size 360x360 with 1 Axes>"
      ]
     },
     "metadata": {
      "needs_background": "light"
     },
     "output_type": "display_data"
    }
   ],
   "source": [
    "plt.plot(stockRetRel);\n",
    "plt.grid()"
   ]
  },
  {
   "cell_type": "code",
   "execution_count": null,
   "metadata": {},
   "outputs": [],
   "source": []
  },
  {
   "cell_type": "markdown",
   "metadata": {},
   "source": [
    "# Now plot backtest with S&P500"
   ]
  },
  {
   "cell_type": "code",
   "execution_count": 99,
   "metadata": {},
   "outputs": [
    {
     "name": "stdout",
     "output_type": "stream",
     "text": [
      "volatility of AI investor was:  0.5368839645114541\n",
      "volatility of S&P 500 was:  0.14107078778110896\n"
     ]
    },
    {
     "data": {
      "image/png": "[encoded data removed]",
      "text/plain": [
       "<Figure size 576x360 with 1 Axes>"
      ]
     },
     "metadata": {
      "needs_background": "light"
     },
     "output_type": "display_data"
    }
   ],
   "source": [
    "# GSPC.csv taken directly from Yahoo.com is the S&P500.\n",
    "spy=pd.read_csv(\"GSPC.csv\", index_col='Date', parse_dates=True)\n",
    "spy['Relative'] = spy[\"Open\"]/spy[\"Open\"][0]\n",
    "\n",
    "import matplotlib\n",
    "import matplotlib.pyplot as plt\n",
    "import numpy as np\n",
    "\n",
    "plt.figure(figsize=(8,5))\n",
    "plt.plot(spy['Relative'])\n",
    "plt.grid()\n",
    "plt.xlabel('Time')\n",
    "plt.ylabel('Relative returns')\n",
    "plt.legend(['S&P500 index performance', 'Linear Regressor Stock Picker'])\n",
    "#plt.savefig('spy.png')\n",
    "print('volatility of AI investor was: ', test['Indexed Performance'].diff().std()*np.sqrt(52))\n",
    "print('volatility of S&P 500 was: ', spy[\"SP500\"].diff().std()*np.sqrt(52))"
   ]
  },
  {
   "cell_type": "code",
   "execution_count": 174,
   "metadata": {},
   "outputs": [
    {
     "data": {
      "text/plain": [
       "2518"
      ]
     },
     "execution_count": 174,
     "metadata": {},
     "output_type": "execute_result"
    }
   ],
   "source": [
    "spy[\"SP500\"].size"
   ]
  },
  {
   "cell_type": "code",
   "execution_count": null,
   "metadata": {},
   "outputs": [],
   "source": []
  }
 ],
 "metadata": {
  "kernelspec": {
   "display_name": "Python 3.7 (tensorflow)",
   "language": "python",
   "name": "tensorflow"
  },
  "language_info": {
   "codemirror_mode": {
    "name": "ipython",
    "version": 3
   },
   "file_extension": ".py",
   "mimetype": "text/x-python",
   "name": "python",
   "nbconvert_exporter": "python",
   "pygments_lexer": "ipython3",
   "version": "3.7.7"
  }
 },
 "nbformat": 4,
 "nbformat_minor": 4
}
