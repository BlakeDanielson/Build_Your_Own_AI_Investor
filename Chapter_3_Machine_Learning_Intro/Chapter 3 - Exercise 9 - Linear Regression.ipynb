{
 "cells": [
  {
   "cell_type": "markdown",
   "metadata": {},
   "source": [
    "# Linear Regression"
   ]
  },
  {
   "cell_type": "markdown",
   "metadata": {},
   "source": [
    "## Single Feature Variable with Scikit-Learn Linear Regression"
   ]
  },
  {
   "cell_type": "code",
   "execution_count": 1,
   "metadata": {},
   "outputs": [
    {
     "data": {
      "text/html": [
       "<div>\n",
       "<style scoped>\n",
       "    .dataframe tbody tr th:only-of-type {\n",
       "        vertical-align: middle;\n",
       "    }\n",
       "\n",
       "    .dataframe tbody tr th {\n",
       "        vertical-align: top;\n",
       "    }\n",
       "\n",
       "    .dataframe thead th {\n",
       "        text-align: right;\n",
       "    }\n",
       "</style>\n",
       "<table border=\"1\" class=\"dataframe\">\n",
       "  <thead>\n",
       "    <tr style=\"text-align: right;\">\n",
       "      <th></th>\n",
       "      <th>X</th>\n",
       "      <th>Y</th>\n",
       "    </tr>\n",
       "  </thead>\n",
       "  <tbody>\n",
       "    <tr>\n",
       "      <th>0</th>\n",
       "      <td>3.717656</td>\n",
       "      <td>2.969227</td>\n",
       "    </tr>\n",
       "    <tr>\n",
       "      <th>1</th>\n",
       "      <td>2.240286</td>\n",
       "      <td>2.674028</td>\n",
       "    </tr>\n",
       "    <tr>\n",
       "      <th>2</th>\n",
       "      <td>2.541955</td>\n",
       "      <td>3.532068</td>\n",
       "    </tr>\n",
       "    <tr>\n",
       "      <th>3</th>\n",
       "      <td>3.570501</td>\n",
       "      <td>3.636004</td>\n",
       "    </tr>\n",
       "    <tr>\n",
       "      <th>4</th>\n",
       "      <td>0.288653</td>\n",
       "      <td>2.125236</td>\n",
       "    </tr>\n",
       "  </tbody>\n",
       "</table>\n",
       "</div>"
      ],
      "text/plain": [
       "          X         Y\n",
       "0  3.717656  2.969227\n",
       "1  2.240286  2.674028\n",
       "2  2.541955  3.532068\n",
       "3  3.570501  3.636004\n",
       "4  0.288653  2.125236"
      ]
     },
     "execution_count": 1,
     "metadata": {},
     "output_type": "execute_result"
    }
   ],
   "source": [
    "import pandas as pd\n",
    "import matplotlib.pyplot as plt\n",
    "import numpy as np # scikitlearn uses numpy arrays\n",
    "\n",
    "data = pd.read_csv('LinRegData.csv') # Read in our data\n",
    "data.head() # See the first few rows to understand the data"
   ]
  },
  {
   "cell_type": "code",
   "execution_count": 3,
   "metadata": {},
   "outputs": [
    {
     "data": {
      "text/plain": [
       "Text(0, 0.5, 'Y')"
      ]
     },
     "execution_count": 3,
     "metadata": {},
     "output_type": "execute_result"
    },
    {
     "data": {
      "image/png": "[encoded data removed]",
      "text/plain": [
       "<Figure size 432x288 with 1 Axes>"
      ]
     },
     "metadata": {
      "needs_background": "light"
     },
     "output_type": "display_data"
    }
   ],
   "source": [
    "# Data is X and Y coordinates\n",
    "X = data['X']\n",
    "Y = data['Y']\n",
    "plt.scatter(X, Y) # Plot \n",
    "plt.ylim([0,6])\n",
    "plt.grid()\n",
    "plt.xlabel('X')\n",
    "plt.ylabel('Y')"
   ]
  },
  {
   "cell_type": "code",
   "execution_count": 4,
   "metadata": {},
   "outputs": [
    {
     "data": {
      "text/plain": [
       "<matplotlib.legend.Legend at 0x286616dfcc8>"
      ]
     },
     "execution_count": 4,
     "metadata": {},
     "output_type": "execute_result"
    },
    {
     "data": {
      "image/png": "[encoded data removed]",
      "text/plain": [
       "<Figure size 432x288 with 1 Axes>"
      ]
     },
     "metadata": {
      "needs_background": "light"
     },
     "output_type": "display_data"
    }
   ],
   "source": [
    "# Use scikitlearn to do linear regression\n",
    "from sklearn.linear_model import LinearRegression\n",
    "linearRegressor = LinearRegression()\n",
    "\n",
    "x=X.values.reshape(-1,1) # LinearRegressor object wants arguments as numpy objects\n",
    "y=Y.values.reshape(-1,1)\n",
    "linearRegressor.fit(x, y)\n",
    "y_pred = linearRegressor.predict(x)\n",
    "plt.scatter(X, Y) # scatter plot, learning data\n",
    "plt.plot(x, y_pred, 'red') # plot of linear regression prediction on top (red line)\n",
    "\n",
    "#Plot formatting.\n",
    "plt.xlabel('X')\n",
    "plt.ylabel('Y')\n",
    "plt.grid()\n",
    "plt.ylim([0,6]);\n",
    "plt.legend(['Prediction'])"
   ]
  },
  {
   "cell_type": "code",
   "execution_count": 5,
   "metadata": {},
   "outputs": [
    {
     "data": {
      "text/plain": [
       "array([[3.27684707]])"
      ]
     },
     "execution_count": 5,
     "metadata": {},
     "output_type": "execute_result"
    }
   ],
   "source": [
    "# Just try a single number\n",
    "linearRegressor.predict([[3]])"
   ]
  },
  {
   "cell_type": "markdown",
   "metadata": {},
   "source": [
    "Root Mean Squared Error:\n",
    "\n",
    "$MSE\\ =\\ \\frac{1}{n}\\sum_{i=1}^{n}\\left({\\hat{Y}}_i - Y_i\\right)^2$"
   ]
  },
  {
   "cell_type": "code",
   "execution_count": 6,
   "metadata": {},
   "outputs": [
    {
     "data": {
      "text/plain": [
       "0.23034812795839643"
      ]
     },
     "execution_count": 6,
     "metadata": {},
     "output_type": "execute_result"
    }
   ],
   "source": [
    "from sklearn.metrics import mean_squared_error # Sklearn library has this as a func for us.\n",
    "mean_squared_error(y, y_pred)"
   ]
  },
  {
   "cell_type": "markdown",
   "metadata": {},
   "source": [
    "## Linear Regression Under the Hood"
   ]
  },
  {
   "cell_type": "code",
   "execution_count": 7,
   "metadata": {},
   "outputs": [
    {
     "name": "stdout",
     "output_type": "stream",
     "text": [
      "Final values of Beta0 and Beta1 are: 2.0228762355020855 0.4283872160417386\n"
     ]
    }
   ],
   "source": [
    "# Maky your own simple linear regression Gradient Descent\n",
    "eta = 0.05  # Learning Rate 0.01\n",
    "iterations = 100  # The number of iterations to perform 1e3\n",
    "n = len(X) # Number of elements \n",
    "beta0, beta1 = 0, 0 # start with random numbers\n",
    "\n",
    "# Performing Gradient Descent\n",
    "for i in range(iterations): \n",
    "    beta0 = beta0 - eta * (2/n) * sum(beta0 + beta1 * X - Y)\n",
    "    beta1 = beta1 - eta * (2/n) * sum((beta0 + beta1 * X - Y) * X)\n",
    "\n",
    "print('Final values of Beta0 and Beta1 are:', beta0, beta1)\n",
    "\n",
    "Y_pred = beta0 + beta1 * X # Do the prediction"
   ]
  },
  {
   "cell_type": "code",
   "execution_count": 8,
   "metadata": {},
   "outputs": [
    {
     "data": {
      "text/plain": [
       "<matplotlib.legend.Legend at 0x2b8eb0664c8>"
      ]
     },
     "execution_count": 8,
     "metadata": {},
     "output_type": "execute_result"
    },
    {
     "data": {
      "image/png": "[encoded data removed]",
      "text/plain": [
       "<Figure size 432x288 with 1 Axes>"
      ]
     },
     "metadata": {
      "needs_background": "light"
     },
     "output_type": "display_data"
    }
   ],
   "source": [
    "# Plotting\n",
    "plt.scatter(X, Y) \n",
    "plt.plot(X, Y_pred, color='red')\n",
    "\n",
    "# Formatting\n",
    "plt.ylim([0,6])\n",
    "plt.grid()\n",
    "plt.xlabel('X')\n",
    "plt.ylabel('Y')\n",
    "plt.legend(['Prediction'])"
   ]
  },
  {
   "cell_type": "code",
   "execution_count": 9,
   "metadata": {},
   "outputs": [
    {
     "data": {
      "text/plain": [
       "0.2427170083979493"
      ]
     },
     "execution_count": 9,
     "metadata": {},
     "output_type": "execute_result"
    }
   ],
   "source": [
    "mean_squared_error(Y, Y_pred)"
   ]
  },
  {
   "cell_type": "markdown",
   "metadata": {},
   "source": [
    "# Exercise 9 - Custom Linear Regression with 2 Feature Variables\n",
    "Here we will take in 2 columns of stock fundamental data, as well as the past stock return, and try and predict returns\n",
    "\n",
    "Some of the code is missing. Try and fix the code."
   ]
  },
  {
   "cell_type": "code",
   "execution_count": 10,
   "metadata": {},
   "outputs": [
    {
     "data": {
      "text/html": [
       "<div>\n",
       "<style scoped>\n",
       "    .dataframe tbody tr th:only-of-type {\n",
       "        vertical-align: middle;\n",
       "    }\n",
       "\n",
       "    .dataframe tbody tr th {\n",
       "        vertical-align: top;\n",
       "    }\n",
       "\n",
       "    .dataframe thead th {\n",
       "        text-align: right;\n",
       "    }\n",
       "</style>\n",
       "<table border=\"1\" class=\"dataframe\">\n",
       "  <thead>\n",
       "    <tr style=\"text-align: right;\">\n",
       "      <th></th>\n",
       "      <th>Stock Performance</th>\n",
       "      <th>P/E</th>\n",
       "      <th>RoE</th>\n",
       "    </tr>\n",
       "  </thead>\n",
       "  <tbody>\n",
       "    <tr>\n",
       "      <th>0</th>\n",
       "      <td>0.055388</td>\n",
       "      <td>10.875822</td>\n",
       "      <td>0.179792</td>\n",
       "    </tr>\n",
       "    <tr>\n",
       "      <th>1</th>\n",
       "      <td>0.112595</td>\n",
       "      <td>18.033607</td>\n",
       "      <td>0.143820</td>\n",
       "    </tr>\n",
       "    <tr>\n",
       "      <th>2</th>\n",
       "      <td>0.947340</td>\n",
       "      <td>-11.771037</td>\n",
       "      <td>-0.209845</td>\n",
       "    </tr>\n",
       "    <tr>\n",
       "      <th>3</th>\n",
       "      <td>0.032850</td>\n",
       "      <td>12.254908</td>\n",
       "      <td>5.000000</td>\n",
       "    </tr>\n",
       "    <tr>\n",
       "      <th>4</th>\n",
       "      <td>-0.015705</td>\n",
       "      <td>20.870461</td>\n",
       "      <td>0.040745</td>\n",
       "    </tr>\n",
       "  </tbody>\n",
       "</table>\n",
       "</div>"
      ],
      "text/plain": [
       "   Stock Performance        P/E       RoE\n",
       "0           0.055388  10.875822  0.179792\n",
       "1           0.112595  18.033607  0.143820\n",
       "2           0.947340 -11.771037 -0.209845\n",
       "3           0.032850  12.254908  5.000000\n",
       "4          -0.015705  20.870461  0.040745"
      ]
     },
     "execution_count": 10,
     "metadata": {},
     "output_type": "execute_result"
    }
   ],
   "source": [
    "data = pd.read_csv('Exercise_9_StockReturnData.csv') # Read in our data\n",
    "data.???() # Take a first look at the data with head"
   ]
  },
  {
   "cell_type": "code",
   "execution_count": 11,
   "metadata": {},
   "outputs": [
    {
     "data": {
      "text/plain": [
       "(78, 2)"
      ]
     },
     "execution_count": 11,
     "metadata": {},
     "output_type": "execute_result"
    }
   ],
   "source": [
    "Y = data['Stock Performance'] # Split data into X and Y\n",
    "X = data.??(columns=???) # get rid of the Stock Performance Column\n",
    "X.shape # Get an idea of the size of X"
   ]
  },
  {
   "cell_type": "code",
   "execution_count": 12,
   "metadata": {},
   "outputs": [],
   "source": [
    "from sklearn.model_selection import train_test_split # Want to split test and train data\n",
    "X_train, X_test, y_train, y_test = train_test_split(?, ?, test_size=0.2)"
   ]
  },
  {
   "cell_type": "code",
   "execution_count": 13,
   "metadata": {},
   "outputs": [
    {
     "name": "stdout",
     "output_type": "stream",
     "text": [
      "Final values of Beta0, Beta1 and Beta2 are: 0.041696299111480956 -0.0005628475848695432 0.024440039486909967\n"
     ]
    }
   ],
   "source": [
    "# Simple linear regression Gradient Descent\n",
    "eta = 0.0002  # Learning Rate 0.0001\n",
    "iterations = 1000  # The number of iterations to perform 1e3\n",
    "n = len(X_train) # Number of elements \n",
    "beta0, beta1, beta2 = 0, 0, 0 # start with random numbers\n",
    "\n",
    "# Manually setting X1 and X2. Could put regression into a function if you wish.\n",
    "X1 = X_train['P/E']\n",
    "X2 = X_train['RoE']\n",
    "\n",
    "# Performing Gradient Descent\n",
    "for i in range(iterations): \n",
    "    beta0 = beta0 - eta * (2/n) * sum(beta0 + beta1*X1 + beta2*X2 - y_train)\n",
    "    beta1 = beta1 - eta * (2/n) * sum((beta0 + beta1*X1 + ??*X2 - y_train) * X1)\n",
    "    beta2 = beta2 - eta * (2/???) * sum((beta0 + ??*X1 + beta2*X2 - ???) * ??)\n",
    "\n",
    "Y_pred = beta0 + beta? * X1 + beta?? * X2 # Do the prediction\n",
    "print('Final values of Beta0, Beta1 and Beta2 are:', beta0, beta1, beta2) # Make sure not crazy numbers"
   ]
  },
  {
   "cell_type": "code",
   "execution_count": 14,
   "metadata": {},
   "outputs": [
    {
     "name": "stdout",
     "output_type": "stream",
     "text": [
      "train error 0.15822271814428412\n",
      "test error 0.22073504097291874\n"
     ]
    }
   ],
   "source": [
    "from sklearn.metrics import mean_squared_error\n",
    "print('train error', mean_squared_error(y_train, Y_pred))\n",
    "print('test error', mean_squared_error(y_test, beta0 + beta1 * X_test['P/E'] + beta2 * X_test['RoE']))"
   ]
  },
  {
   "cell_type": "code",
   "execution_count": 15,
   "metadata": {},
   "outputs": [
    {
     "name": "stdout",
     "output_type": "stream",
     "text": [
      "Predicted Stock Return P/E of 2 and RoE of 150% is: 0.07723066317210682\n"
     ]
    }
   ],
   "source": [
    "# The fit seems to work. Let's try a common-sense check to see if the algorithm is working.\n",
    "# A stock with a ridiculously low P/E with a ridiculously high RoE should give us spectacular returns.\n",
    "# Try P/E of 2 and a RoE of 150%\n",
    "stock_return_pred = beta0 + beta1 * 2 + beta2 * 1.5\n",
    "print('Predicted Stock Return P/E of 2 and RoE of 150% is:', stock_return_pred)"
   ]
  },
  {
   "cell_type": "code",
   "execution_count": 16,
   "metadata": {},
   "outputs": [
    {
     "name": "stdout",
     "output_type": "stream",
     "text": [
      "Predicted Stock Return P/E of 2 and RoE of 150% is: -0.014344058980604266\n"
     ]
    }
   ],
   "source": [
    "# 7% as a prediction kind of sucks, but it is at least positive.\n",
    "# Try P/E of 100 and a RoE of 1%, this kind of stock should do badly.\n",
    "stock_return_pred = beta0 + beta1 * 100 + beta2 * 0.01\n",
    "print('Predicted Stock Return P/E of 2 and RoE of 150% is:', stock_return_pred)"
   ]
  },
  {
   "cell_type": "code",
   "execution_count": 17,
   "metadata": {},
   "outputs": [
    {
     "data": {
      "text/plain": [
       "(78, 2)"
      ]
     },
     "execution_count": 17,
     "metadata": {},
     "output_type": "execute_result"
    }
   ],
   "source": [
    "# 2% return is quite low for a stock return.\n",
    "X.shape # Let's see how big X is.\n",
    "# Bear in mind that we have less than 100 rows of data to work with. \n",
    "# Our regression algorithm works in the right direction, we expect a low P/E stock with high RoE to perform better\n",
    "# Also bear in mind that only beta0, 1 and 2 are changing, by their nature they will not capture many relationships in the data"
   ]
  },
  {
   "cell_type": "markdown",
   "metadata": {},
   "source": [
    "# Linear Regression Regularisation"
   ]
  },
  {
   "cell_type": "code",
   "execution_count": 32,
   "metadata": {
    "scrolled": false
   },
   "outputs": [
    {
     "data": {
      "text/html": [
       "<div>\n",
       "<style scoped>\n",
       "    .dataframe tbody tr th:only-of-type {\n",
       "        vertical-align: middle;\n",
       "    }\n",
       "\n",
       "    .dataframe tbody tr th {\n",
       "        vertical-align: top;\n",
       "    }\n",
       "\n",
       "    .dataframe thead th {\n",
       "        text-align: right;\n",
       "    }\n",
       "</style>\n",
       "<table border=\"1\" class=\"dataframe\">\n",
       "  <thead>\n",
       "    <tr style=\"text-align: right;\">\n",
       "      <th></th>\n",
       "      <th>EV/EBIT</th>\n",
       "      <th>Op. In./(NWC+FA)</th>\n",
       "      <th>P/E</th>\n",
       "      <th>P/B</th>\n",
       "      <th>P/S</th>\n",
       "      <th>Op. In./Interest Expense</th>\n",
       "      <th>Working Capital Ratio</th>\n",
       "      <th>RoE</th>\n",
       "      <th>ROCE</th>\n",
       "      <th>Debt/Equity</th>\n",
       "      <th>Debt Ratio</th>\n",
       "      <th>Cash Ratio</th>\n",
       "      <th>Asset Turnover</th>\n",
       "      <th>Gross Profit Margin</th>\n",
       "      <th>Perf</th>\n",
       "    </tr>\n",
       "  </thead>\n",
       "  <tbody>\n",
       "    <tr>\n",
       "      <th>3400</th>\n",
       "      <td>6.381478</td>\n",
       "      <td>0.204089</td>\n",
       "      <td>10.875822</td>\n",
       "      <td>1.955389</td>\n",
       "      <td>1.043914</td>\n",
       "      <td>507.500000</td>\n",
       "      <td>1.683476</td>\n",
       "      <td>0.179792</td>\n",
       "      <td>0.205403</td>\n",
       "      <td>0.746217</td>\n",
       "      <td>2.340092</td>\n",
       "      <td>0.489970</td>\n",
       "      <td>1.896559</td>\n",
       "      <td>0.315558</td>\n",
       "      <td>0.055388</td>\n",
       "    </tr>\n",
       "    <tr>\n",
       "      <th>12853</th>\n",
       "      <td>13.063094</td>\n",
       "      <td>0.320015</td>\n",
       "      <td>18.033607</td>\n",
       "      <td>2.593587</td>\n",
       "      <td>2.290410</td>\n",
       "      <td>23.015477</td>\n",
       "      <td>2.739353</td>\n",
       "      <td>0.143820</td>\n",
       "      <td>0.143781</td>\n",
       "      <td>0.619297</td>\n",
       "      <td>2.614733</td>\n",
       "      <td>1.013029</td>\n",
       "      <td>4.911931</td>\n",
       "      <td>0.512353</td>\n",
       "      <td>0.112595</td>\n",
       "    </tr>\n",
       "    <tr>\n",
       "      <th>11564</th>\n",
       "      <td>22.946430</td>\n",
       "      <td>0.049592</td>\n",
       "      <td>-11.771037</td>\n",
       "      <td>2.470096</td>\n",
       "      <td>0.154558</td>\n",
       "      <td>0.518199</td>\n",
       "      <td>2.304271</td>\n",
       "      <td>-0.209845</td>\n",
       "      <td>0.043381</td>\n",
       "      <td>6.343013</td>\n",
       "      <td>1.157654</td>\n",
       "      <td>0.384641</td>\n",
       "      <td>9.211404</td>\n",
       "      <td>0.057980</td>\n",
       "      <td>0.947340</td>\n",
       "    </tr>\n",
       "    <tr>\n",
       "      <th>6584</th>\n",
       "      <td>9.117308</td>\n",
       "      <td>0.124919</td>\n",
       "      <td>12.254908</td>\n",
       "      <td>100.000000</td>\n",
       "      <td>0.406767</td>\n",
       "      <td>-200.000000</td>\n",
       "      <td>1.989239</td>\n",
       "      <td>5.000000</td>\n",
       "      <td>0.115158</td>\n",
       "      <td>100.000000</td>\n",
       "      <td>1.003977</td>\n",
       "      <td>0.179304</td>\n",
       "      <td>7.571732</td>\n",
       "      <td>0.082257</td>\n",
       "      <td>0.032850</td>\n",
       "    </tr>\n",
       "    <tr>\n",
       "      <th>2810</th>\n",
       "      <td>-41.561149</td>\n",
       "      <td>0.418362</td>\n",
       "      <td>20.870461</td>\n",
       "      <td>0.850370</td>\n",
       "      <td>1.098445</td>\n",
       "      <td>39.277419</td>\n",
       "      <td>1.379839</td>\n",
       "      <td>0.040745</td>\n",
       "      <td>0.039916</td>\n",
       "      <td>3.682290</td>\n",
       "      <td>1.271570</td>\n",
       "      <td>1.117836</td>\n",
       "      <td>26.533528</td>\n",
       "      <td>1.000000</td>\n",
       "      <td>-0.015705</td>\n",
       "    </tr>\n",
       "    <tr>\n",
       "      <th>...</th>\n",
       "      <td>...</td>\n",
       "      <td>...</td>\n",
       "      <td>...</td>\n",
       "      <td>...</td>\n",
       "      <td>...</td>\n",
       "      <td>...</td>\n",
       "      <td>...</td>\n",
       "      <td>...</td>\n",
       "      <td>...</td>\n",
       "      <td>...</td>\n",
       "      <td>...</td>\n",
       "      <td>...</td>\n",
       "      <td>...</td>\n",
       "      <td>...</td>\n",
       "      <td>...</td>\n",
       "    </tr>\n",
       "    <tr>\n",
       "      <th>5034</th>\n",
       "      <td>83.505399</td>\n",
       "      <td>-0.509146</td>\n",
       "      <td>-179.701327</td>\n",
       "      <td>4.152762</td>\n",
       "      <td>1.604563</td>\n",
       "      <td>0.875874</td>\n",
       "      <td>0.739027</td>\n",
       "      <td>-0.023109</td>\n",
       "      <td>0.016279</td>\n",
       "      <td>4.303501</td>\n",
       "      <td>1.232434</td>\n",
       "      <td>0.453732</td>\n",
       "      <td>7.999567</td>\n",
       "      <td>0.488284</td>\n",
       "      <td>0.619817</td>\n",
       "    </tr>\n",
       "    <tr>\n",
       "      <th>2151</th>\n",
       "      <td>15.319187</td>\n",
       "      <td>0.223177</td>\n",
       "      <td>22.101117</td>\n",
       "      <td>4.375731</td>\n",
       "      <td>1.225972</td>\n",
       "      <td>29.056159</td>\n",
       "      <td>0.643573</td>\n",
       "      <td>0.197987</td>\n",
       "      <td>0.187116</td>\n",
       "      <td>1.095606</td>\n",
       "      <td>1.912737</td>\n",
       "      <td>0.125216</td>\n",
       "      <td>2.354439</td>\n",
       "      <td>0.434046</td>\n",
       "      <td>0.193358</td>\n",
       "    </tr>\n",
       "    <tr>\n",
       "      <th>7622</th>\n",
       "      <td>11.633947</td>\n",
       "      <td>0.578705</td>\n",
       "      <td>19.023766</td>\n",
       "      <td>3.430473</td>\n",
       "      <td>3.802736</td>\n",
       "      <td>-200.000000</td>\n",
       "      <td>4.495777</td>\n",
       "      <td>0.180326</td>\n",
       "      <td>0.265560</td>\n",
       "      <td>0.154412</td>\n",
       "      <td>7.476183</td>\n",
       "      <td>1.687236</td>\n",
       "      <td>5.452243</td>\n",
       "      <td>0.593472</td>\n",
       "      <td>0.192087</td>\n",
       "    </tr>\n",
       "    <tr>\n",
       "      <th>3578</th>\n",
       "      <td>11.929398</td>\n",
       "      <td>1.061325</td>\n",
       "      <td>18.686352</td>\n",
       "      <td>2.997386</td>\n",
       "      <td>1.498863</td>\n",
       "      <td>6.799893</td>\n",
       "      <td>1.222132</td>\n",
       "      <td>0.160405</td>\n",
       "      <td>0.159912</td>\n",
       "      <td>1.318212</td>\n",
       "      <td>1.758603</td>\n",
       "      <td>0.207343</td>\n",
       "      <td>8.240939</td>\n",
       "      <td>0.412899</td>\n",
       "      <td>-0.170243</td>\n",
       "    </tr>\n",
       "    <tr>\n",
       "      <th>2253</th>\n",
       "      <td>10.948177</td>\n",
       "      <td>0.179916</td>\n",
       "      <td>14.896027</td>\n",
       "      <td>6.627833</td>\n",
       "      <td>0.528175</td>\n",
       "      <td>3.420576</td>\n",
       "      <td>0.763239</td>\n",
       "      <td>0.444940</td>\n",
       "      <td>0.167598</td>\n",
       "      <td>5.742966</td>\n",
       "      <td>1.174126</td>\n",
       "      <td>0.154096</td>\n",
       "      <td>2.394690</td>\n",
       "      <td>0.689826</td>\n",
       "      <td>-0.095247</td>\n",
       "    </tr>\n",
       "  </tbody>\n",
       "</table>\n",
       "<p>78 rows × 15 columns</p>\n",
       "</div>"
      ],
      "text/plain": [
       "         EV/EBIT  Op. In./(NWC+FA)         P/E         P/B       P/S  \\\n",
       "3400    6.381478          0.204089   10.875822    1.955389  1.043914   \n",
       "12853  13.063094          0.320015   18.033607    2.593587  2.290410   \n",
       "11564  22.946430          0.049592  -11.771037    2.470096  0.154558   \n",
       "6584    9.117308          0.124919   12.254908  100.000000  0.406767   \n",
       "2810  -41.561149          0.418362   20.870461    0.850370  1.098445   \n",
       "...          ...               ...         ...         ...       ...   \n",
       "5034   83.505399         -0.509146 -179.701327    4.152762  1.604563   \n",
       "2151   15.319187          0.223177   22.101117    4.375731  1.225972   \n",
       "7622   11.633947          0.578705   19.023766    3.430473  3.802736   \n",
       "3578   11.929398          1.061325   18.686352    2.997386  1.498863   \n",
       "2253   10.948177          0.179916   14.896027    6.627833  0.528175   \n",
       "\n",
       "       Op. In./Interest Expense  Working Capital Ratio       RoE      ROCE  \\\n",
       "3400                 507.500000               1.683476  0.179792  0.205403   \n",
       "12853                 23.015477               2.739353  0.143820  0.143781   \n",
       "11564                  0.518199               2.304271 -0.209845  0.043381   \n",
       "6584                -200.000000               1.989239  5.000000  0.115158   \n",
       "2810                  39.277419               1.379839  0.040745  0.039916   \n",
       "...                         ...                    ...       ...       ...   \n",
       "5034                   0.875874               0.739027 -0.023109  0.016279   \n",
       "2151                  29.056159               0.643573  0.197987  0.187116   \n",
       "7622                -200.000000               4.495777  0.180326  0.265560   \n",
       "3578                   6.799893               1.222132  0.160405  0.159912   \n",
       "2253                   3.420576               0.763239  0.444940  0.167598   \n",
       "\n",
       "       Debt/Equity  Debt Ratio  Cash Ratio  Asset Turnover  \\\n",
       "3400      0.746217    2.340092    0.489970        1.896559   \n",
       "12853     0.619297    2.614733    1.013029        4.911931   \n",
       "11564     6.343013    1.157654    0.384641        9.211404   \n",
       "6584    100.000000    1.003977    0.179304        7.571732   \n",
       "2810      3.682290    1.271570    1.117836       26.533528   \n",
       "...            ...         ...         ...             ...   \n",
       "5034      4.303501    1.232434    0.453732        7.999567   \n",
       "2151      1.095606    1.912737    0.125216        2.354439   \n",
       "7622      0.154412    7.476183    1.687236        5.452243   \n",
       "3578      1.318212    1.758603    0.207343        8.240939   \n",
       "2253      5.742966    1.174126    0.154096        2.394690   \n",
       "\n",
       "       Gross Profit Margin      Perf  \n",
       "3400              0.315558  0.055388  \n",
       "12853             0.512353  0.112595  \n",
       "11564             0.057980  0.947340  \n",
       "6584              0.082257  0.032850  \n",
       "2810              1.000000 -0.015705  \n",
       "...                    ...       ...  \n",
       "5034              0.488284  0.619817  \n",
       "2151              0.434046  0.193358  \n",
       "7622              0.593472  0.192087  \n",
       "3578              0.412899 -0.170243  \n",
       "2253              0.689826 -0.095247  \n",
       "\n",
       "[78 rows x 15 columns]"
      ]
     },
     "execution_count": 32,
     "metadata": {},
     "output_type": "execute_result"
    }
   ],
   "source": [
    "data = pd.read_csv('Exercise_9_stock_data_performance_fundamentals.csv', index_col=0) # Read in our data\n",
    "data"
   ]
  },
  {
   "cell_type": "code",
   "execution_count": 34,
   "metadata": {
    "scrolled": true
   },
   "outputs": [],
   "source": [
    "#data = pd.read_csv('Exercise_9_stock_data_performance_fundamentals.csv', index_col=0) # Read in our data\n",
    "#from pandas.plotting import scatter_matrix # If want scatter matrix\n",
    "#scatter_matrix(data, alpha=0.2, figsize=(10, 10))"
   ]
  },
  {
   "cell_type": "code",
   "execution_count": 35,
   "metadata": {},
   "outputs": [
    {
     "data": {
      "text/plain": [
       "Index(['EV/EBIT', 'Op. In./(NWC+FA)', 'P/E', 'P/B', 'P/S',\n",
       "       'Op. In./Interest Expense', 'Working Capital Ratio', 'RoE', 'ROCE',\n",
       "       'Debt/Equity', 'Debt Ratio', 'Cash Ratio', 'Asset Turnover',\n",
       "       'Gross Profit Margin'],\n",
       "      dtype='object')"
      ]
     },
     "execution_count": 35,
     "metadata": {},
     "output_type": "execute_result"
    }
   ],
   "source": [
    "X=data.drop(columns='Perf')\n",
    "Y=data['Perf']\n",
    "X.keys()"
   ]
  },
  {
   "cell_type": "code",
   "execution_count": 36,
   "metadata": {},
   "outputs": [
    {
     "name": "stdout",
     "output_type": "stream",
     "text": [
      "train error 0.12926017769660428\n",
      "test error 3.8944563775967076\n"
     ]
    }
   ],
   "source": [
    "# Use scikitlearn to do linear regression\n",
    "from sklearn.linear_model import LinearRegression\n",
    "from sklearn.model_selection import train_test_split\n",
    "linearRegressor = LinearRegression()\n",
    "X_train, X_test, y_train, y_test = train_test_split(X, Y, test_size=0.2, random_state=1234)\n",
    "\n",
    "linearRegressor.fit(X_train, y_train)\n",
    "y_pred = linearRegressor.predict(X_train)\n",
    "\n",
    "print('train error', mean_squared_error(y_train, y_pred))\n",
    "print('test error', mean_squared_error(y_test, linearRegressor.predict(X_test)))\n"
   ]
  },
  {
   "cell_type": "code",
   "execution_count": 37,
   "metadata": {},
   "outputs": [],
   "source": [
    "# Learning curve for any Regressor\n",
    "def learningCurve(myModel, X, Y, randomState):\n",
    "    testErr, trainErr, trainSize = [],[],[] # We will take these lists as output\n",
    "    X_train, X_test, y_train, y_test = train_test_split(X, Y, test_size=0.2, random_state=randomState)\n",
    "    trainSize = range(1, len(X))\n",
    "    for i in trainSize:\n",
    "        myModel.fit(X_train[:i], y_train[:i])\n",
    "        y_pred = myModel.predict(X_train[:i])\n",
    "        trainErr.append(mean_squared_error(y_train[:i], y_pred))\n",
    "        testErr.append(mean_squared_error(y_test, myModel.predict(X_test)))\n",
    "    return np.sqrt(testErr), np.sqrt(trainErr), trainSize\n",
    "    "
   ]
  },
  {
   "cell_type": "code",
   "execution_count": 38,
   "metadata": {},
   "outputs": [
    {
     "data": {
      "text/plain": [
       "Text(0.5, 1.0, 'Random State of 123')"
      ]
     },
     "execution_count": 38,
     "metadata": {},
     "output_type": "execute_result"
    },
    {
     "data": {
      "image/png": "[encoded data removed]",
      "text/plain": [
       "<Figure size 432x288 with 1 Axes>"
      ]
     },
     "metadata": {
      "needs_background": "light"
     },
     "output_type": "display_data"
    }
   ],
   "source": [
    "# Plotting the learning curve shows some interesting things.\n",
    "randomState=123 # randomstate try 123 and 1234\n",
    "testErr, trainErr, trainSize = learningCurve(linearRegressor, X, Y, randomState) \n",
    "plt.plot(trainSize, trainErr, trainSize, testErr) # plot\n",
    "plt.legend(['Error vs. Training Set', 'Error vs. Testing Set']) # Formatting\n",
    "plt.grid()\n",
    "plt.xlabel('Rows in training set')\n",
    "plt.ylabel('RMSE')\n",
    "plt.ylim([0,6])\n",
    "plt.xlim([0,80])\n",
    "plt.title('Random State of {}'.format(randomState))"
   ]
  },
  {
   "cell_type": "code",
   "execution_count": 39,
   "metadata": {},
   "outputs": [
    {
     "name": "stdout",
     "output_type": "stream",
     "text": [
      "train error 0.13257687481350078\n",
      "test error 0.7523443835840322\n"
     ]
    }
   ],
   "source": [
    "from sklearn.linear_model import Ridge\n",
    "ridgeRegressor = Ridge()\n",
    "ridgeRegressor.fit(X_train, y_train)\n",
    "y_pred = ridgeRegressor.predict(X_train)\n",
    "\n",
    "print('train error', mean_squared_error(y_train, y_pred))\n",
    "print('test error', mean_squared_error(y_test, ridgeRegressor.predict(X_test)))\n"
   ]
  },
  {
   "cell_type": "code",
   "execution_count": 25,
   "metadata": {},
   "outputs": [
    {
     "name": "stdout",
     "output_type": "stream",
     "text": [
      "train error 0.1463680986191252\n",
      "test error 0.11575680599746771\n"
     ]
    }
   ],
   "source": [
    "from sklearn.linear_model import Lasso\n",
    "lassoRegressor = Lasso(alpha=0.1)\n",
    "lassoRegressor.fit(X_train, y_train)\n",
    "y_pred = lassoRegressor.predict(X_train)\n",
    "\n",
    "print('train error', mean_squared_error(y_train, y_pred))\n",
    "print('test error', mean_squared_error(y_test, lassoRegressor.predict(X_test)))\n"
   ]
  },
  {
   "cell_type": "code",
   "execution_count": 26,
   "metadata": {},
   "outputs": [
    {
     "name": "stdout",
     "output_type": "stream",
     "text": [
      "train error 0.14422073247670292\n",
      "test error 0.11922290010175587\n"
     ]
    }
   ],
   "source": [
    "from sklearn.linear_model import ElasticNet\n",
    "eNetRegressor = ElasticNet(alpha=0.1, l1_ratio=0.5)\n",
    "eNetRegressor.fit(X_train, y_train)\n",
    "y_pred = eNetRegressor.predict(X_train)\n",
    "\n",
    "print('train error', mean_squared_error(y_train, y_pred))\n",
    "print('test error', mean_squared_error(y_test, eNetRegressor.predict(X_test)))\n"
   ]
  },
  {
   "cell_type": "markdown",
   "metadata": {},
   "source": [
    "##### Plot learning curves for regularised linear models"
   ]
  },
  {
   "cell_type": "code",
   "execution_count": 27,
   "metadata": {},
   "outputs": [
    {
     "name": "stderr",
     "output_type": "stream",
     "text": [
      "C:\\Users\\G50\\miniconda3\\envs\\tensorflow\\lib\\site-packages\\sklearn\\linear_model\\_coordinate_descent.py:476: ConvergenceWarning: Objective did not converge. You might want to increase the number of iterations. Duality gap: 0.0, tolerance: 0.0\n",
      "  positive)\n",
      "C:\\Users\\G50\\miniconda3\\envs\\tensorflow\\lib\\site-packages\\sklearn\\linear_model\\_coordinate_descent.py:476: ConvergenceWarning: Objective did not converge. You might want to increase the number of iterations. Duality gap: 0.0, tolerance: 0.0\n",
      "  positive)\n"
     ]
    }
   ],
   "source": [
    "# Plotting the learning curve shows some interesting things.\n",
    "randomState=42 # randomstate try 123 and 1234\n",
    "testErr1, trainErr1, trainSize1 = learningCurve(linearRegressor, X, Y, randomState) \n",
    "testErr2, trainErr2, trainSize2 = learningCurve(ridgeRegressor, X, Y, randomState) \n",
    "testErr3, trainErr3, trainSize3 = learningCurve(lassoRegressor, X, Y, randomState) \n",
    "testErr4, trainErr4, trainSize4 = learningCurve(eNetRegressor, X, Y, randomState) "
   ]
  },
  {
   "cell_type": "code",
   "execution_count": 28,
   "metadata": {},
   "outputs": [
    {
     "data": {
      "image/png": "[encoded data removed]",
      "text/plain": [
       "<Figure size 936x720 with 4 Axes>"
      ]
     },
     "metadata": {
      "needs_background": "light"
     },
     "output_type": "display_data"
    }
   ],
   "source": [
    "fig, axs = plt.subplots(2, 2, figsize=(13,10))\n",
    "axs[0, 0].plot(trainSize1, trainErr1, trainSize1, testErr1, 'tab:purple')\n",
    "axs[0, 0].set_title(\"Linear Regressor\")\n",
    "axs[1, 0].plot(trainSize2, trainErr2, trainSize2, testErr2, 'tab:orange')\n",
    "axs[1, 0].set_title(\"Ridge Regressor\")\n",
    "axs[0, 1].plot(trainSize3, trainErr3, trainSize3, testErr3, 'tab:green')\n",
    "axs[0, 1].set_title(\"Lasso Regressor\")\n",
    "axs[1, 1].plot(trainSize4, trainErr4, trainSize4, testErr4, 'tab:red')\n",
    "axs[1, 1].set_title(\"Elastic-Net Regressor\")\n",
    "\n",
    "for ax in axs.flat:\n",
    "    ax.set(xlabel='Rows in training set', ylabel='RMSE', ylim=(0,4), xlim = (0,70))\n",
    "    ax.grid()\n",
    "    ax.legend(['Error vs. Training Set', 'Error vs. Testing Set'])\n",
    "    \n",
    "    # Hide x labels and tick labels for top plots and y ticks for right plots.\n",
    "for ax in axs.flat:\n",
    "    ax.label_outer()"
   ]
  },
  {
   "cell_type": "markdown",
   "metadata": {},
   "source": [
    "| Regressor | RMSE vs. Training Data | RMSE vs. Testing Data |\n",
    "| :- | :-: | :-: |\n",
    "| Linear | 0.129 | 3.894\n",
    "| Ridge | 0.133 | 0.752\n",
    "| Lasso | 0.146 | 0.116\n",
    "| Elastic-Net | 0.144 | 0.119"
   ]
  },
  {
   "cell_type": "code",
   "execution_count": null,
   "metadata": {},
   "outputs": [],
   "source": []
  }
 ],
 "metadata": {
  "kernelspec": {
   "display_name": "Python 3.7 (tensorflow)",
   "language": "python",
   "name": "tensorflow"
  },
  "language_info": {
   "codemirror_mode": {
    "name": "ipython",
    "version": 3
   },
   "file_extension": ".py",
   "mimetype": "text/x-python",
   "name": "python",
   "nbconvert_exporter": "python",
   "pygments_lexer": "ipython3",
   "version": "3.7.7"
  }
 },
 "nbformat": 4,
 "nbformat_minor": 4
}
